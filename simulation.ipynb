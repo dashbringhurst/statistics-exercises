{
 "cells": [
  {
   "cell_type": "code",
   "execution_count": 1,
   "id": "4693274f",
   "metadata": {},
   "outputs": [],
   "source": [
    "import pandas as pd\n",
    "import numpy as np"
   ]
  },
  {
   "cell_type": "code",
   "execution_count": 2,
   "id": "332194f0",
   "metadata": {},
   "outputs": [],
   "source": [
    "# How likely is it that you roll doubles when rolling two dice?\n",
    "\n",
    "outcomes = [1,2,3,4,5,6]\n",
    "n_sim = 100000\n",
    "n_trials = 2\n",
    "\n",
    "rolls = np.random.choice(outcomes, (n_sim, n_trials))"
   ]
  },
  {
   "cell_type": "code",
   "execution_count": 3,
   "id": "73685722",
   "metadata": {},
   "outputs": [
    {
     "data": {
      "text/html": [
       "<div>\n",
       "<style scoped>\n",
       "    .dataframe tbody tr th:only-of-type {\n",
       "        vertical-align: middle;\n",
       "    }\n",
       "\n",
       "    .dataframe tbody tr th {\n",
       "        vertical-align: top;\n",
       "    }\n",
       "\n",
       "    .dataframe thead th {\n",
       "        text-align: right;\n",
       "    }\n",
       "</style>\n",
       "<table border=\"1\" class=\"dataframe\">\n",
       "  <thead>\n",
       "    <tr style=\"text-align: right;\">\n",
       "      <th></th>\n",
       "      <th>0</th>\n",
       "      <th>1</th>\n",
       "    </tr>\n",
       "  </thead>\n",
       "  <tbody>\n",
       "    <tr>\n",
       "      <th>0</th>\n",
       "      <td>3</td>\n",
       "      <td>4</td>\n",
       "    </tr>\n",
       "    <tr>\n",
       "      <th>1</th>\n",
       "      <td>3</td>\n",
       "      <td>6</td>\n",
       "    </tr>\n",
       "    <tr>\n",
       "      <th>2</th>\n",
       "      <td>4</td>\n",
       "      <td>2</td>\n",
       "    </tr>\n",
       "    <tr>\n",
       "      <th>3</th>\n",
       "      <td>6</td>\n",
       "      <td>5</td>\n",
       "    </tr>\n",
       "    <tr>\n",
       "      <th>4</th>\n",
       "      <td>5</td>\n",
       "      <td>4</td>\n",
       "    </tr>\n",
       "    <tr>\n",
       "      <th>...</th>\n",
       "      <td>...</td>\n",
       "      <td>...</td>\n",
       "    </tr>\n",
       "    <tr>\n",
       "      <th>99995</th>\n",
       "      <td>4</td>\n",
       "      <td>1</td>\n",
       "    </tr>\n",
       "    <tr>\n",
       "      <th>99996</th>\n",
       "      <td>2</td>\n",
       "      <td>5</td>\n",
       "    </tr>\n",
       "    <tr>\n",
       "      <th>99997</th>\n",
       "      <td>5</td>\n",
       "      <td>1</td>\n",
       "    </tr>\n",
       "    <tr>\n",
       "      <th>99998</th>\n",
       "      <td>1</td>\n",
       "      <td>5</td>\n",
       "    </tr>\n",
       "    <tr>\n",
       "      <th>99999</th>\n",
       "      <td>6</td>\n",
       "      <td>6</td>\n",
       "    </tr>\n",
       "  </tbody>\n",
       "</table>\n",
       "<p>100000 rows × 2 columns</p>\n",
       "</div>"
      ],
      "text/plain": [
       "       0  1\n",
       "0      3  4\n",
       "1      3  6\n",
       "2      4  2\n",
       "3      6  5\n",
       "4      5  4\n",
       "...   .. ..\n",
       "99995  4  1\n",
       "99996  2  5\n",
       "99997  5  1\n",
       "99998  1  5\n",
       "99999  6  6\n",
       "\n",
       "[100000 rows x 2 columns]"
      ]
     },
     "execution_count": 3,
     "metadata": {},
     "output_type": "execute_result"
    }
   ],
   "source": [
    "rolls = pd.DataFrame(rolls)\n",
    "rolls"
   ]
  },
  {
   "cell_type": "code",
   "execution_count": 4,
   "id": "fe9fb6ae",
   "metadata": {},
   "outputs": [
    {
     "data": {
      "text/plain": [
       "0        False\n",
       "1        False\n",
       "2        False\n",
       "3        False\n",
       "4        False\n",
       "         ...  \n",
       "99995    False\n",
       "99996    False\n",
       "99997    False\n",
       "99998    False\n",
       "99999     True\n",
       "Length: 100000, dtype: bool"
      ]
     },
     "execution_count": 4,
     "metadata": {},
     "output_type": "execute_result"
    }
   ],
   "source": [
    "double = (rolls[0] == rolls[1])\n",
    "double"
   ]
  },
  {
   "cell_type": "code",
   "execution_count": 5,
   "id": "83e4c9bb",
   "metadata": {},
   "outputs": [
    {
     "data": {
      "text/plain": [
       "0.16764"
      ]
     },
     "execution_count": 5,
     "metadata": {},
     "output_type": "execute_result"
    }
   ],
   "source": [
    "double.mean()"
   ]
  },
  {
   "cell_type": "code",
   "execution_count": 6,
   "id": "b5f0a24b",
   "metadata": {},
   "outputs": [
    {
     "data": {
      "text/plain": [
       "array([['Tails', 'Tails', 'Heads', ..., 'Heads', 'Heads', 'Tails'],\n",
       "       ['Tails', 'Tails', 'Heads', ..., 'Heads', 'Tails', 'Heads'],\n",
       "       ['Heads', 'Tails', 'Tails', ..., 'Tails', 'Tails', 'Tails'],\n",
       "       ...,\n",
       "       ['Tails', 'Heads', 'Heads', ..., 'Heads', 'Heads', 'Tails'],\n",
       "       ['Tails', 'Tails', 'Heads', ..., 'Heads', 'Heads', 'Tails'],\n",
       "       ['Tails', 'Heads', 'Tails', ..., 'Tails', 'Tails', 'Heads']],\n",
       "      dtype='<U5')"
      ]
     },
     "execution_count": 6,
     "metadata": {},
     "output_type": "execute_result"
    }
   ],
   "source": [
    "# If you flip 8 coins, what is the probability of getting exactly 3 heads? \n",
    "\n",
    "outcomes = ['Heads', 'Tails']\n",
    "n_sim = 100000\n",
    "n_trials = 8\n",
    "\n",
    "flips = np.random.choice(outcomes, (n_sim, n_trials))\n",
    "flips"
   ]
  },
  {
   "cell_type": "code",
   "execution_count": 7,
   "id": "fe4a0e32",
   "metadata": {},
   "outputs": [
    {
     "data": {
      "text/plain": [
       "array([[False, False,  True, ...,  True,  True, False],\n",
       "       [False, False,  True, ...,  True, False,  True],\n",
       "       [ True, False, False, ..., False, False, False],\n",
       "       ...,\n",
       "       [False,  True,  True, ...,  True,  True, False],\n",
       "       [False, False,  True, ...,  True,  True, False],\n",
       "       [False,  True, False, ..., False, False,  True]])"
      ]
     },
     "execution_count": 7,
     "metadata": {},
     "output_type": "execute_result"
    }
   ],
   "source": [
    "h_flip = (flips == 'Heads')\n",
    "h_flip"
   ]
  },
  {
   "cell_type": "code",
   "execution_count": 8,
   "id": "3874004c",
   "metadata": {},
   "outputs": [
    {
     "data": {
      "text/plain": [
       "array([ True,  True, False, ..., False, False, False])"
      ]
     },
     "execution_count": 8,
     "metadata": {},
     "output_type": "execute_result"
    }
   ],
   "source": [
    "sum_heads = h_flip.sum(axis=1)\n",
    "\n",
    "wins = (sum_heads == 3)\n",
    "wins"
   ]
  },
  {
   "cell_type": "code",
   "execution_count": 9,
   "id": "198b7efd",
   "metadata": {},
   "outputs": [
    {
     "data": {
      "text/plain": [
       "0.21859"
      ]
     },
     "execution_count": 9,
     "metadata": {},
     "output_type": "execute_result"
    }
   ],
   "source": [
    "win_rate = wins.mean()\n",
    "win_rate"
   ]
  },
  {
   "cell_type": "code",
   "execution_count": 10,
   "id": "b0335ad1",
   "metadata": {},
   "outputs": [],
   "source": [
    "# What is the probability of getting more than 3 heads?"
   ]
  },
  {
   "cell_type": "code",
   "execution_count": 12,
   "id": "c1d901e0",
   "metadata": {},
   "outputs": [
    {
     "data": {
      "text/plain": [
       "0.63717"
      ]
     },
     "execution_count": 12,
     "metadata": {},
     "output_type": "execute_result"
    }
   ],
   "source": [
    "wins = (sum_heads > 3)\n",
    "wins.mean()"
   ]
  },
  {
   "cell_type": "code",
   "execution_count": 47,
   "id": "405190e1",
   "metadata": {},
   "outputs": [
    {
     "data": {
      "text/plain": [
       "array([[0.80869253, 0.74680034],\n",
       "       [0.55693629, 0.80066271],\n",
       "       [0.89807697, 0.638893  ],\n",
       "       ...,\n",
       "       [0.83009959, 0.6832739 ],\n",
       "       [0.34216238, 0.50167274],\n",
       "       [0.71964391, 0.73392773]])"
      ]
     },
     "execution_count": 47,
     "metadata": {},
     "output_type": "execute_result"
    }
   ],
   "source": [
    "# There are approximitely 3 web development cohorts for every 1 data science cohort at Codeup. \n",
    "# Assuming that Codeup randomly selects an alumni to put on a billboard, what are the odds that \n",
    "# the two billboards I drive past both have data science students on them?\n",
    "\n",
    "ds = .25\n",
    "nbill = ncols = 2\n",
    "n_sim = nrows = 100000\n",
    "data = np.random.random((nrows, ncols))\n",
    "data\n"
   ]
  },
  {
   "cell_type": "code",
   "execution_count": 50,
   "id": "85942d22",
   "metadata": {},
   "outputs": [
    {
     "data": {
      "text/plain": [
       "array([[False, False],\n",
       "       [False, False],\n",
       "       [False, False],\n",
       "       ...,\n",
       "       [False, False],\n",
       "       [False, False],\n",
       "       [False, False]])"
      ]
     },
     "execution_count": 50,
     "metadata": {},
     "output_type": "execute_result"
    }
   ],
   "source": [
    "ds_bill = (data < ds)\n",
    "ds_bill"
   ]
  },
  {
   "cell_type": "code",
   "execution_count": 51,
   "id": "d76969dd",
   "metadata": {},
   "outputs": [
    {
     "data": {
      "text/plain": [
       "0.06289"
      ]
     },
     "execution_count": 51,
     "metadata": {},
     "output_type": "execute_result"
    }
   ],
   "source": [
    "(ds_bill.sum(axis=1) == 2).mean()"
   ]
  },
  {
   "cell_type": "code",
   "execution_count": 13,
   "id": "04af99e6",
   "metadata": {},
   "outputs": [
    {
     "data": {
      "text/plain": [
       "array([6.67176746, 2.04059647, 3.10675758, ..., 2.52127094, 1.53086843,\n",
       "       2.33079964])"
      ]
     },
     "execution_count": 13,
     "metadata": {},
     "output_type": "execute_result"
    }
   ],
   "source": [
    "# Codeup students buy, on average, 3 poptart packages with a standard deviation of 1.5 a day from \n",
    "# the snack vending machine. If on monday the machine is restocked with 17 poptart packages, how \n",
    "# likely is it that I will be able to buy some poptarts on Friday afternoon? \n",
    "# (Remember, if you have mean and standard deviation, use the np.random.normal) \n",
    "# You'll need to make a judgement call on how to handle some of your values\n",
    "\n",
    "pop_per_day = np.random.normal(3, 1.5, size=100000)\n",
    "pop_per_day"
   ]
  },
  {
   "cell_type": "code",
   "execution_count": 14,
   "id": "1f6c7271",
   "metadata": {},
   "outputs": [
    {
     "data": {
      "text/plain": [
       "array([24.40234023, 18.84766974, 19.87539095, ..., 11.98374923,\n",
       "       14.57139445, 13.53464288])"
      ]
     },
     "execution_count": 14,
     "metadata": {},
     "output_type": "execute_result"
    }
   ],
   "source": [
    "pop_per_day = pop_per_day.reshape(20000,5)\n",
    "pop_per_day.sum(axis=1)"
   ]
  },
  {
   "cell_type": "code",
   "execution_count": 15,
   "id": "81aba817",
   "metadata": {},
   "outputs": [
    {
     "data": {
      "text/plain": [
       "array([False, False, False, ...,  True,  True,  True])"
      ]
     },
     "execution_count": 15,
     "metadata": {},
     "output_type": "execute_result"
    }
   ],
   "source": [
    "pops_sold = pop_per_day.sum(axis=1) <= 16 # accounting for an entire poptart available for purchase\n",
    "pops_sold"
   ]
  },
  {
   "cell_type": "code",
   "execution_count": 16,
   "id": "513882b4",
   "metadata": {},
   "outputs": [
    {
     "data": {
      "text/plain": [
       "0.6219"
      ]
     },
     "execution_count": 16,
     "metadata": {},
     "output_type": "execute_result"
    }
   ],
   "source": [
    "pops_sold.mean()"
   ]
  },
  {
   "cell_type": "code",
   "execution_count": 66,
   "id": "501f1642",
   "metadata": {},
   "outputs": [],
   "source": [
    "# Compare Heights\n",
    "\n",
    "# Men have an average height of 178 cm and standard deviation of 8cm.\n",
    "# Women have a mean of 170, sd = 6cm.\n",
    "# Since you have means and standard deviations, you can use np.random.normal to generate observations.\n",
    "# If a man and woman are chosen at random, what is the likelihood the woman is taller than the man?\n",
    "\n",
    "men_avg_ht = np.random.normal(178, 8, size=10000)\n",
    "wmn_avg_ht = np.random.normal(170, 6, size=10000)"
   ]
  },
  {
   "cell_type": "code",
   "execution_count": 67,
   "id": "cbfe1778",
   "metadata": {},
   "outputs": [
    {
     "data": {
      "text/plain": [
       "array([183.58339287, 170.62379607, 177.37017288, ..., 166.00287164,\n",
       "       179.62134517, 177.37257385])"
      ]
     },
     "execution_count": 67,
     "metadata": {},
     "output_type": "execute_result"
    }
   ],
   "source": [
    "men_avg_ht"
   ]
  },
  {
   "cell_type": "code",
   "execution_count": 68,
   "id": "a9176e3b",
   "metadata": {},
   "outputs": [
    {
     "data": {
      "text/plain": [
       "array([165.76589611, 168.11168061, 168.3835817 , ..., 164.6603754 ,\n",
       "       168.71227777, 168.25078127])"
      ]
     },
     "execution_count": 68,
     "metadata": {},
     "output_type": "execute_result"
    }
   ],
   "source": [
    "wmn_avg_ht"
   ]
  },
  {
   "cell_type": "code",
   "execution_count": 87,
   "id": "33051383",
   "metadata": {},
   "outputs": [
    {
     "data": {
      "text/plain": [
       "0.2128"
      ]
     },
     "execution_count": 87,
     "metadata": {},
     "output_type": "execute_result"
    }
   ],
   "source": [
    "woman_is_taller = (men_avg_ht < wmn_avg_ht)\n",
    "woman_is_taller.mean()"
   ]
  },
  {
   "cell_type": "code",
   "execution_count": 135,
   "id": "879b399c",
   "metadata": {},
   "outputs": [
    {
     "data": {
      "text/plain": [
       "0.81694"
      ]
     },
     "execution_count": 135,
     "metadata": {},
     "output_type": "execute_result"
    }
   ],
   "source": [
    "# When installing anaconda on a student's computer, there's a 1 in 250 chance that the download is corrupted \n",
    "# and the installation fails. What are the odds that after having 50 students download anaconda, no one has an \n",
    "# installation issue? 100 students?\n",
    "\n",
    "corrupt_dl = 0.004\n",
    "n_sim = np.random.random((100000, 50))\n",
    "no_corrupts = (n_sim > corrupt_dl).sum(axis=1) == 50\n",
    "no_corrupts.mean()"
   ]
  },
  {
   "cell_type": "code",
   "execution_count": 137,
   "id": "3baaa513",
   "metadata": {},
   "outputs": [
    {
     "data": {
      "text/plain": [
       "0.66914"
      ]
     },
     "execution_count": 137,
     "metadata": {},
     "output_type": "execute_result"
    }
   ],
   "source": [
    "corrupt_dl = 0.004\n",
    "n_sim = np.random.random((100000, 100))\n",
    "no_corrupts = (n_sim > corrupt_dl).sum(axis=1) == 100\n",
    "no_corrupts.mean()"
   ]
  },
  {
   "cell_type": "code",
   "execution_count": 138,
   "id": "c3bf44d1",
   "metadata": {},
   "outputs": [
    {
     "data": {
      "text/plain": [
       "0.60063"
      ]
     },
     "execution_count": 138,
     "metadata": {},
     "output_type": "execute_result"
    }
   ],
   "source": [
    "# What is the probability that we observe an installation issue within the first 150 students that download anaconda?\n",
    "\n",
    "corrupt_dl = 0.004\n",
    "n_sim = np.random.random((100000, 150))\n",
    "corrupts = (n_sim < corrupt_dl).sum(axis=1)\n",
    "corrupts.mean()"
   ]
  },
  {
   "cell_type": "code",
   "execution_count": 139,
   "id": "60354647",
   "metadata": {},
   "outputs": [
    {
     "data": {
      "text/plain": [
       "0.16385"
      ]
     },
     "execution_count": 139,
     "metadata": {},
     "output_type": "execute_result"
    }
   ],
   "source": [
    "# How likely is it that 450 students all download anaconda without an issue?\n",
    "\n",
    "corrupt_dl = 0.004\n",
    "n_sim = np.random.random((100000, 450))\n",
    "no_corrupts = (n_sim > corrupt_dl).sum(axis=1) == 450\n",
    "no_corrupts.mean()"
   ]
  },
  {
   "cell_type": "code",
   "execution_count": 160,
   "id": "516b4379",
   "metadata": {},
   "outputs": [
    {
     "data": {
      "text/plain": [
       "array([[0.14842807, 0.32548358, 0.00242114],\n",
       "       [0.28076078, 0.69050737, 0.49050418],\n",
       "       [0.41904861, 0.59664882, 0.15458394],\n",
       "       ...,\n",
       "       [0.29099845, 0.62313578, 0.52363168],\n",
       "       [0.81824905, 0.88278174, 0.8290073 ],\n",
       "       [0.63775238, 0.47867045, 0.31291125]])"
      ]
     },
     "execution_count": 160,
     "metadata": {},
     "output_type": "execute_result"
    }
   ],
   "source": [
    "# There's a 70% chance on any given day that there will be at least one food truck at Travis Park. \n",
    "# However, you haven't seen a food truck there in 3 days. How unlikely is this?\n",
    "\n",
    "food_truck = .7\n",
    "n_sim = np.random.random((100000, 3))\n",
    "n_sim"
   ]
  },
  {
   "cell_type": "code",
   "execution_count": 163,
   "id": "b94c5c89",
   "metadata": {},
   "outputs": [
    {
     "data": {
      "text/plain": [
       "array([[False, False, False],\n",
       "       [False, False, False],\n",
       "       [False, False, False],\n",
       "       ...,\n",
       "       [False, False, False],\n",
       "       [ True,  True,  True],\n",
       "       [False, False, False]])"
      ]
     },
     "execution_count": 163,
     "metadata": {},
     "output_type": "execute_result"
    }
   ],
   "source": [
    "no_truck = (n_sim > food_truck)\n",
    "no_truck"
   ]
  },
  {
   "cell_type": "code",
   "execution_count": 166,
   "id": "b518e8a7",
   "metadata": {},
   "outputs": [
    {
     "data": {
      "text/plain": [
       "0.02654"
      ]
     },
     "execution_count": 166,
     "metadata": {},
     "output_type": "execute_result"
    }
   ],
   "source": [
    "truck_sum = (no_truck.sum(axis=1) == 3)\n",
    "truck_sum.mean()"
   ]
  },
  {
   "cell_type": "code",
   "execution_count": 231,
   "id": "653e23f9",
   "metadata": {},
   "outputs": [
    {
     "data": {
      "text/plain": [
       "0.9964"
      ]
     },
     "execution_count": 231,
     "metadata": {},
     "output_type": "execute_result"
    }
   ],
   "source": [
    "# How likely is it that a food truck will show up sometime this week?\n",
    "\n",
    "food_truck = .7\n",
    "n_sim = np.random.random((100000, 7))\n",
    "truck = (n_sim < food_truck)\n",
    "twk = truck.sum(axis=1) > 1\n",
    "twk.mean()"
   ]
  },
  {
   "cell_type": "code",
   "execution_count": 170,
   "id": "f5d0308b",
   "metadata": {},
   "outputs": [],
   "source": [
    "# If 23 people are in the same room, what are the odds that two of them share a birthday? \n",
    "\n",
    "people = 23\n",
    "outcomes = np.arange(1,366)\n",
    "\n",
    "n_sim = np.random.choice(outcomes, (10000, 23))"
   ]
  },
  {
   "cell_type": "code",
   "execution_count": 171,
   "id": "9253c7d4",
   "metadata": {},
   "outputs": [
    {
     "data": {
      "text/html": [
       "<div>\n",
       "<style scoped>\n",
       "    .dataframe tbody tr th:only-of-type {\n",
       "        vertical-align: middle;\n",
       "    }\n",
       "\n",
       "    .dataframe tbody tr th {\n",
       "        vertical-align: top;\n",
       "    }\n",
       "\n",
       "    .dataframe thead th {\n",
       "        text-align: right;\n",
       "    }\n",
       "</style>\n",
       "<table border=\"1\" class=\"dataframe\">\n",
       "  <thead>\n",
       "    <tr style=\"text-align: right;\">\n",
       "      <th></th>\n",
       "      <th>0</th>\n",
       "      <th>1</th>\n",
       "      <th>2</th>\n",
       "      <th>3</th>\n",
       "      <th>4</th>\n",
       "      <th>5</th>\n",
       "      <th>6</th>\n",
       "      <th>7</th>\n",
       "      <th>8</th>\n",
       "      <th>9</th>\n",
       "      <th>...</th>\n",
       "      <th>13</th>\n",
       "      <th>14</th>\n",
       "      <th>15</th>\n",
       "      <th>16</th>\n",
       "      <th>17</th>\n",
       "      <th>18</th>\n",
       "      <th>19</th>\n",
       "      <th>20</th>\n",
       "      <th>21</th>\n",
       "      <th>22</th>\n",
       "    </tr>\n",
       "  </thead>\n",
       "  <tbody>\n",
       "    <tr>\n",
       "      <th>0</th>\n",
       "      <td>148</td>\n",
       "      <td>252</td>\n",
       "      <td>88</td>\n",
       "      <td>341</td>\n",
       "      <td>206</td>\n",
       "      <td>231</td>\n",
       "      <td>334</td>\n",
       "      <td>147</td>\n",
       "      <td>144</td>\n",
       "      <td>158</td>\n",
       "      <td>...</td>\n",
       "      <td>313</td>\n",
       "      <td>342</td>\n",
       "      <td>209</td>\n",
       "      <td>339</td>\n",
       "      <td>27</td>\n",
       "      <td>252</td>\n",
       "      <td>196</td>\n",
       "      <td>354</td>\n",
       "      <td>249</td>\n",
       "      <td>243</td>\n",
       "    </tr>\n",
       "    <tr>\n",
       "      <th>1</th>\n",
       "      <td>73</td>\n",
       "      <td>212</td>\n",
       "      <td>254</td>\n",
       "      <td>174</td>\n",
       "      <td>236</td>\n",
       "      <td>55</td>\n",
       "      <td>175</td>\n",
       "      <td>139</td>\n",
       "      <td>322</td>\n",
       "      <td>7</td>\n",
       "      <td>...</td>\n",
       "      <td>264</td>\n",
       "      <td>339</td>\n",
       "      <td>216</td>\n",
       "      <td>227</td>\n",
       "      <td>319</td>\n",
       "      <td>99</td>\n",
       "      <td>343</td>\n",
       "      <td>176</td>\n",
       "      <td>104</td>\n",
       "      <td>58</td>\n",
       "    </tr>\n",
       "    <tr>\n",
       "      <th>2</th>\n",
       "      <td>97</td>\n",
       "      <td>340</td>\n",
       "      <td>75</td>\n",
       "      <td>235</td>\n",
       "      <td>285</td>\n",
       "      <td>41</td>\n",
       "      <td>252</td>\n",
       "      <td>275</td>\n",
       "      <td>55</td>\n",
       "      <td>270</td>\n",
       "      <td>...</td>\n",
       "      <td>289</td>\n",
       "      <td>24</td>\n",
       "      <td>174</td>\n",
       "      <td>169</td>\n",
       "      <td>340</td>\n",
       "      <td>128</td>\n",
       "      <td>7</td>\n",
       "      <td>198</td>\n",
       "      <td>299</td>\n",
       "      <td>276</td>\n",
       "    </tr>\n",
       "    <tr>\n",
       "      <th>3</th>\n",
       "      <td>344</td>\n",
       "      <td>332</td>\n",
       "      <td>200</td>\n",
       "      <td>127</td>\n",
       "      <td>292</td>\n",
       "      <td>135</td>\n",
       "      <td>213</td>\n",
       "      <td>234</td>\n",
       "      <td>100</td>\n",
       "      <td>281</td>\n",
       "      <td>...</td>\n",
       "      <td>225</td>\n",
       "      <td>83</td>\n",
       "      <td>92</td>\n",
       "      <td>140</td>\n",
       "      <td>281</td>\n",
       "      <td>108</td>\n",
       "      <td>231</td>\n",
       "      <td>358</td>\n",
       "      <td>325</td>\n",
       "      <td>123</td>\n",
       "    </tr>\n",
       "    <tr>\n",
       "      <th>4</th>\n",
       "      <td>135</td>\n",
       "      <td>37</td>\n",
       "      <td>327</td>\n",
       "      <td>218</td>\n",
       "      <td>185</td>\n",
       "      <td>271</td>\n",
       "      <td>241</td>\n",
       "      <td>108</td>\n",
       "      <td>86</td>\n",
       "      <td>322</td>\n",
       "      <td>...</td>\n",
       "      <td>71</td>\n",
       "      <td>126</td>\n",
       "      <td>98</td>\n",
       "      <td>285</td>\n",
       "      <td>212</td>\n",
       "      <td>175</td>\n",
       "      <td>217</td>\n",
       "      <td>32</td>\n",
       "      <td>360</td>\n",
       "      <td>232</td>\n",
       "    </tr>\n",
       "    <tr>\n",
       "      <th>...</th>\n",
       "      <td>...</td>\n",
       "      <td>...</td>\n",
       "      <td>...</td>\n",
       "      <td>...</td>\n",
       "      <td>...</td>\n",
       "      <td>...</td>\n",
       "      <td>...</td>\n",
       "      <td>...</td>\n",
       "      <td>...</td>\n",
       "      <td>...</td>\n",
       "      <td>...</td>\n",
       "      <td>...</td>\n",
       "      <td>...</td>\n",
       "      <td>...</td>\n",
       "      <td>...</td>\n",
       "      <td>...</td>\n",
       "      <td>...</td>\n",
       "      <td>...</td>\n",
       "      <td>...</td>\n",
       "      <td>...</td>\n",
       "      <td>...</td>\n",
       "    </tr>\n",
       "    <tr>\n",
       "      <th>9995</th>\n",
       "      <td>83</td>\n",
       "      <td>15</td>\n",
       "      <td>215</td>\n",
       "      <td>25</td>\n",
       "      <td>223</td>\n",
       "      <td>92</td>\n",
       "      <td>311</td>\n",
       "      <td>45</td>\n",
       "      <td>77</td>\n",
       "      <td>77</td>\n",
       "      <td>...</td>\n",
       "      <td>19</td>\n",
       "      <td>186</td>\n",
       "      <td>273</td>\n",
       "      <td>1</td>\n",
       "      <td>235</td>\n",
       "      <td>154</td>\n",
       "      <td>339</td>\n",
       "      <td>14</td>\n",
       "      <td>207</td>\n",
       "      <td>20</td>\n",
       "    </tr>\n",
       "    <tr>\n",
       "      <th>9996</th>\n",
       "      <td>19</td>\n",
       "      <td>150</td>\n",
       "      <td>22</td>\n",
       "      <td>65</td>\n",
       "      <td>269</td>\n",
       "      <td>65</td>\n",
       "      <td>326</td>\n",
       "      <td>56</td>\n",
       "      <td>277</td>\n",
       "      <td>225</td>\n",
       "      <td>...</td>\n",
       "      <td>175</td>\n",
       "      <td>35</td>\n",
       "      <td>143</td>\n",
       "      <td>305</td>\n",
       "      <td>129</td>\n",
       "      <td>153</td>\n",
       "      <td>103</td>\n",
       "      <td>205</td>\n",
       "      <td>36</td>\n",
       "      <td>139</td>\n",
       "    </tr>\n",
       "    <tr>\n",
       "      <th>9997</th>\n",
       "      <td>132</td>\n",
       "      <td>32</td>\n",
       "      <td>10</td>\n",
       "      <td>4</td>\n",
       "      <td>245</td>\n",
       "      <td>247</td>\n",
       "      <td>302</td>\n",
       "      <td>205</td>\n",
       "      <td>307</td>\n",
       "      <td>8</td>\n",
       "      <td>...</td>\n",
       "      <td>253</td>\n",
       "      <td>39</td>\n",
       "      <td>260</td>\n",
       "      <td>10</td>\n",
       "      <td>288</td>\n",
       "      <td>42</td>\n",
       "      <td>59</td>\n",
       "      <td>316</td>\n",
       "      <td>315</td>\n",
       "      <td>160</td>\n",
       "    </tr>\n",
       "    <tr>\n",
       "      <th>9998</th>\n",
       "      <td>39</td>\n",
       "      <td>221</td>\n",
       "      <td>351</td>\n",
       "      <td>13</td>\n",
       "      <td>319</td>\n",
       "      <td>110</td>\n",
       "      <td>241</td>\n",
       "      <td>186</td>\n",
       "      <td>236</td>\n",
       "      <td>121</td>\n",
       "      <td>...</td>\n",
       "      <td>259</td>\n",
       "      <td>21</td>\n",
       "      <td>268</td>\n",
       "      <td>342</td>\n",
       "      <td>16</td>\n",
       "      <td>22</td>\n",
       "      <td>190</td>\n",
       "      <td>129</td>\n",
       "      <td>249</td>\n",
       "      <td>69</td>\n",
       "    </tr>\n",
       "    <tr>\n",
       "      <th>9999</th>\n",
       "      <td>242</td>\n",
       "      <td>6</td>\n",
       "      <td>238</td>\n",
       "      <td>123</td>\n",
       "      <td>290</td>\n",
       "      <td>337</td>\n",
       "      <td>196</td>\n",
       "      <td>216</td>\n",
       "      <td>230</td>\n",
       "      <td>302</td>\n",
       "      <td>...</td>\n",
       "      <td>261</td>\n",
       "      <td>356</td>\n",
       "      <td>232</td>\n",
       "      <td>163</td>\n",
       "      <td>89</td>\n",
       "      <td>34</td>\n",
       "      <td>102</td>\n",
       "      <td>17</td>\n",
       "      <td>276</td>\n",
       "      <td>203</td>\n",
       "    </tr>\n",
       "  </tbody>\n",
       "</table>\n",
       "<p>10000 rows × 23 columns</p>\n",
       "</div>"
      ],
      "text/plain": [
       "       0    1    2    3    4    5    6    7    8    9   ...   13   14   15  \\\n",
       "0     148  252   88  341  206  231  334  147  144  158  ...  313  342  209   \n",
       "1      73  212  254  174  236   55  175  139  322    7  ...  264  339  216   \n",
       "2      97  340   75  235  285   41  252  275   55  270  ...  289   24  174   \n",
       "3     344  332  200  127  292  135  213  234  100  281  ...  225   83   92   \n",
       "4     135   37  327  218  185  271  241  108   86  322  ...   71  126   98   \n",
       "...   ...  ...  ...  ...  ...  ...  ...  ...  ...  ...  ...  ...  ...  ...   \n",
       "9995   83   15  215   25  223   92  311   45   77   77  ...   19  186  273   \n",
       "9996   19  150   22   65  269   65  326   56  277  225  ...  175   35  143   \n",
       "9997  132   32   10    4  245  247  302  205  307    8  ...  253   39  260   \n",
       "9998   39  221  351   13  319  110  241  186  236  121  ...  259   21  268   \n",
       "9999  242    6  238  123  290  337  196  216  230  302  ...  261  356  232   \n",
       "\n",
       "       16   17   18   19   20   21   22  \n",
       "0     339   27  252  196  354  249  243  \n",
       "1     227  319   99  343  176  104   58  \n",
       "2     169  340  128    7  198  299  276  \n",
       "3     140  281  108  231  358  325  123  \n",
       "4     285  212  175  217   32  360  232  \n",
       "...   ...  ...  ...  ...  ...  ...  ...  \n",
       "9995    1  235  154  339   14  207   20  \n",
       "9996  305  129  153  103  205   36  139  \n",
       "9997   10  288   42   59  316  315  160  \n",
       "9998  342   16   22  190  129  249   69  \n",
       "9999  163   89   34  102   17  276  203  \n",
       "\n",
       "[10000 rows x 23 columns]"
      ]
     },
     "execution_count": 171,
     "metadata": {},
     "output_type": "execute_result"
    }
   ],
   "source": [
    "n_sim = pd.DataFrame(n_sim)\n",
    "n_sim"
   ]
  },
  {
   "cell_type": "code",
   "execution_count": 209,
   "id": "55bfc2ae",
   "metadata": {},
   "outputs": [
    {
     "data": {
      "text/plain": [
       "0       22\n",
       "1       23\n",
       "2       22\n",
       "3       22\n",
       "4       23\n",
       "        ..\n",
       "9995    22\n",
       "9996    21\n",
       "9997    22\n",
       "9998    23\n",
       "9999    23\n",
       "Length: 10000, dtype: int64"
      ]
     },
     "execution_count": 209,
     "metadata": {},
     "output_type": "execute_result"
    }
   ],
   "source": [
    "n_unique = n_sim.nunique(axis=1)\n",
    "n_unique"
   ]
  },
  {
   "cell_type": "code",
   "execution_count": 214,
   "id": "60ed4c35",
   "metadata": {},
   "outputs": [
    {
     "data": {
      "text/plain": [
       "0.4989"
      ]
     },
     "execution_count": 214,
     "metadata": {},
     "output_type": "execute_result"
    }
   ],
   "source": [
    "shared_bday = (n_unique != 23)\n",
    "shared_bday.mean()"
   ]
  },
  {
   "cell_type": "code",
   "execution_count": 220,
   "id": "548a707b",
   "metadata": {},
   "outputs": [],
   "source": [
    "# What if it's 20 people?\n",
    "\n",
    "outcomes = np.arange(1,366)\n",
    "\n",
    "n_sim = np.random.choice(outcomes, (10000, 20))\n"
   ]
  },
  {
   "cell_type": "code",
   "execution_count": 221,
   "id": "54ba5526",
   "metadata": {},
   "outputs": [],
   "source": [
    "n_sim = pd.DataFrame(n_sim)\n",
    "n_unique = n_sim.nunique(axis=1)\n"
   ]
  },
  {
   "cell_type": "code",
   "execution_count": 222,
   "id": "cdf96330",
   "metadata": {},
   "outputs": [
    {
     "data": {
      "text/plain": [
       "0.4154"
      ]
     },
     "execution_count": 222,
     "metadata": {},
     "output_type": "execute_result"
    }
   ],
   "source": [
    "shared_bday = (n_unique != 20)\n",
    "shared_bday.mean()"
   ]
  },
  {
   "cell_type": "code",
   "execution_count": 215,
   "id": "ee3921f0",
   "metadata": {},
   "outputs": [],
   "source": [
    "# What if it's 40 people?\n",
    "\n",
    "outcomes = np.arange(1,366)\n",
    "\n",
    "n_sim = np.random.choice(outcomes, (10000, 40))\n"
   ]
  },
  {
   "cell_type": "code",
   "execution_count": 218,
   "id": "3f55bb4c",
   "metadata": {},
   "outputs": [],
   "source": [
    "n_sim = pd.DataFrame(n_sim)\n",
    "n_unique = n_sim.nunique(axis=1)\n"
   ]
  },
  {
   "cell_type": "code",
   "execution_count": 219,
   "id": "a6dc0eda",
   "metadata": {},
   "outputs": [
    {
     "data": {
      "text/plain": [
       "0.8902"
      ]
     },
     "execution_count": 219,
     "metadata": {},
     "output_type": "execute_result"
    }
   ],
   "source": [
    "shared_bday = (n_unique != 40)\n",
    "shared_bday.mean()"
   ]
  },
  {
   "cell_type": "code",
   "execution_count": null,
   "id": "6fb25ca9",
   "metadata": {},
   "outputs": [],
   "source": []
  }
 ],
 "metadata": {
  "kernelspec": {
   "display_name": "Python 3 (ipykernel)",
   "language": "python",
   "name": "python3"
  },
  "language_info": {
   "codemirror_mode": {
    "name": "ipython",
    "version": 3
   },
   "file_extension": ".py",
   "mimetype": "text/x-python",
   "name": "python",
   "nbconvert_exporter": "python",
   "pygments_lexer": "ipython3",
   "version": "3.9.12"
  }
 },
 "nbformat": 4,
 "nbformat_minor": 5
}
