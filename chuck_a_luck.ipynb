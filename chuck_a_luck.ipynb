{
 "cells": [
  {
   "cell_type": "markdown",
   "id": "8479d738",
   "metadata": {},
   "source": [
    "Simulating Chuck a Luck\n",
    "\n",
    "\"Pay a Buck and Chuck-a-Luck\"\n",
    "Chuck-a-Luck is a game of chance often associated with charity fundraisers or street gambling rather than casinos.\n",
    "\n",
    "To play, the House says, \"Pay $1, pick a number and roll 3 dice. If any of those dice come up, you'll win $1, $2, or $3\".\n",
    "\n",
    "\"It's even odds\", they say, \"because the probability of rolling your number is 1/6 and you get to roll 3 dice! 1/6 + 1/6 + 1/6 is 3/6 which is 1/2\".\n",
    "\n",
    "You know better than this, so it's time to make an experiment to approximate the actual risk and payoff...\n",
    "\n",
    "Rules:\n",
    "\n",
    "The player pays $1 to play and picks a number.\n",
    "\n",
    "The House rolls 3 dice at once.\n",
    "\n",
    "Payouts:\n",
    "\n",
    "$3 if all three dice match the chosen number\n",
    "\n",
    "$2 if exactly two dice match the chosen number\n",
    "\n",
    "$1 is exactly one of the dice matches the chosen number\n",
    "\n",
    "If none of the dice match the player's chosen number, then the House keeps the $1.\n"
   ]
  },
  {
   "cell_type": "code",
   "execution_count": 21,
   "id": "7032eb1e",
   "metadata": {},
   "outputs": [],
   "source": [
    "import pandas as pd\n",
    "import numpy as np"
   ]
  },
  {
   "cell_type": "code",
   "execution_count": 22,
   "id": "368e1235",
   "metadata": {},
   "outputs": [
    {
     "data": {
      "text/plain": [
       "array([[2, 4, 1],\n",
       "       [5, 1, 1],\n",
       "       [5, 5, 1],\n",
       "       ...,\n",
       "       [5, 6, 3],\n",
       "       [6, 5, 4],\n",
       "       [1, 5, 3]])"
      ]
     },
     "execution_count": 22,
     "metadata": {},
     "output_type": "execute_result"
    }
   ],
   "source": [
    "outcomes = [1,2,3,4,5,6]\n",
    "n_sims = 1_000_000\n",
    "n_trials = 3\n",
    "\n",
    "chucks = np.random.choice(outcomes, (n_sims, n_trials))\n",
    "chucks"
   ]
  },
  {
   "cell_type": "markdown",
   "id": "93b42645",
   "metadata": {},
   "source": [
    "Exercises"
   ]
  },
  {
   "cell_type": "code",
   "execution_count": 23,
   "id": "dd3b5593",
   "metadata": {},
   "outputs": [],
   "source": [
    "# What are your chances of getting an outcome payout of $2? (where we earned $3 on the $1 ante)\n",
    "\n",
    "chucks = pd.DataFrame(chucks)\n"
   ]
  },
  {
   "cell_type": "code",
   "execution_count": 24,
   "id": "89c5acbb",
   "metadata": {},
   "outputs": [
    {
     "data": {
      "text/plain": [
       "0.027921"
      ]
     },
     "execution_count": 24,
     "metadata": {},
     "output_type": "execute_result"
    }
   ],
   "source": [
    "three_same = chucks.nunique(axis=1) == 1\n",
    "three_same.mean()"
   ]
  },
  {
   "cell_type": "code",
   "execution_count": 28,
   "id": "5619204f",
   "metadata": {},
   "outputs": [],
   "source": [
    "# What are your chances of getting an payout of $1?\n",
    "\n"
   ]
  },
  {
   "cell_type": "code",
   "execution_count": 27,
   "id": "3a7b3058",
   "metadata": {},
   "outputs": [],
   "source": [
    "# What are your chances of getting a payout of $0 where you ante $1 and win $1?\n",
    "\n"
   ]
  },
  {
   "cell_type": "code",
   "execution_count": 6,
   "id": "1a5e1261",
   "metadata": {},
   "outputs": [],
   "source": [
    "# What are your chances of getting a payout of -$1 where you ante up, but don't win anything?"
   ]
  },
  {
   "cell_type": "code",
   "execution_count": 7,
   "id": "f34e294a",
   "metadata": {},
   "outputs": [],
   "source": [
    "# What is the average cost/gain per game? (think of averaging the total payout calculation across all simulations)"
   ]
  },
  {
   "cell_type": "code",
   "execution_count": 8,
   "id": "d66cb439",
   "metadata": {},
   "outputs": [],
   "source": [
    "# Chart out a histogram of all the outcomes of those 1,000,000 games"
   ]
  },
  {
   "cell_type": "code",
   "execution_count": 9,
   "id": "3cf2ac13",
   "metadata": {},
   "outputs": [],
   "source": [
    "# Is this really a fair game of 1/6 + 1/6 + 1/6 odds?"
   ]
  },
  {
   "cell_type": "code",
   "execution_count": 10,
   "id": "da91003c",
   "metadata": {},
   "outputs": [],
   "source": [
    "# If you play 1,000,000 games in a row, what are your winnings/losses?"
   ]
  },
  {
   "cell_type": "code",
   "execution_count": null,
   "id": "7899613d",
   "metadata": {},
   "outputs": [],
   "source": []
  }
 ],
 "metadata": {
  "kernelspec": {
   "display_name": "Python 3 (ipykernel)",
   "language": "python",
   "name": "python3"
  },
  "language_info": {
   "codemirror_mode": {
    "name": "ipython",
    "version": 3
   },
   "file_extension": ".py",
   "mimetype": "text/x-python",
   "name": "python",
   "nbconvert_exporter": "python",
   "pygments_lexer": "ipython3",
   "version": "3.9.12"
  }
 },
 "nbformat": 4,
 "nbformat_minor": 5
}
