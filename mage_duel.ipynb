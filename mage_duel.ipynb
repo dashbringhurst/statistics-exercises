{
 "cells": [
  {
   "cell_type": "markdown",
   "id": "842b69c4",
   "metadata": {},
   "source": [
    "Mage Duel!\n",
    "\n",
    "Let's use what we've learned to play a mage duel!\n",
    "\n",
    "Imagine your wizard has 6d4 health points and you have spells that do 6d4 damage. \"6d4\" means rolling six 4-sided dice and summing the result.\n",
    "\n",
    "Your opposing mage has 4d6 health points and spells that do 4d6. \"4d6\" means rolling four six-sided dice and summing the result.\n",
    "\n",
    "Exercises\n",
    "Simulate mage duels to answer who is the more powerful mage?\n",
    "\n",
    "Before running simulations, do you have a hypothesis of which mage will win? Do you have a hunch? Write it down. This is your first exercise.\n",
    "\n",
    "I think the 4d6 mage will win.\n"
   ]
  },
  {
   "cell_type": "code",
   "execution_count": 2,
   "id": "f5eef375",
   "metadata": {},
   "outputs": [],
   "source": [
    "import pandas as pd\n",
    "import numpy as np"
   ]
  },
  {
   "cell_type": "code",
   "execution_count": 19,
   "id": "30c96ac6",
   "metadata": {},
   "outputs": [],
   "source": [
    "# Simulate 10 mage duels. Is there a clear winner? Run that 10 duel simulation again. Was the answer similar?\n",
    "\n",
    "first_mage_outcomes = [1,2,3,4]\n",
    "first_sim = 10\n",
    "first_trials = 6\n",
    "\n",
    "first_rolls = np.random.choice(first_mage_outcomes, (first_sim, first_trials))\n",
    "\n",
    "second_mage_outcomes = [1,2,3,4,5,6]\n",
    "second_sim = 10\n",
    "second_trials = 4\n",
    "\n",
    "second_rolls = np.random.choice(second_mage_outcomes, (second_sim, second_trials))"
   ]
  },
  {
   "cell_type": "code",
   "execution_count": 20,
   "id": "e1c07842",
   "metadata": {},
   "outputs": [],
   "source": [
    "first_sum = first_rolls.sum(axis=1)\n",
    "second_sum = second_rolls.sum(axis=1)"
   ]
  },
  {
   "cell_type": "code",
   "execution_count": 21,
   "id": "7b8db5dd",
   "metadata": {},
   "outputs": [
    {
     "data": {
      "text/plain": [
       "0.4"
      ]
     },
     "execution_count": 21,
     "metadata": {},
     "output_type": "execute_result"
    }
   ],
   "source": [
    "(first_sum > second_sum).mean()"
   ]
  },
  {
   "cell_type": "markdown",
   "id": "9346f3fb",
   "metadata": {},
   "source": [
    "6d4 mage wins 40 percent of the time against 4d6 mage."
   ]
  },
  {
   "cell_type": "code",
   "execution_count": 22,
   "id": "0e1ac3bc",
   "metadata": {},
   "outputs": [],
   "source": [
    "# Do the results change much at 100 duels?\n",
    "\n",
    "first_mage_outcomes = [1,2,3,4]\n",
    "first_sim = 100\n",
    "first_trials = 6\n",
    "\n",
    "first_rolls = np.random.choice(first_mage_outcomes, (first_sim, first_trials))\n",
    "\n",
    "second_mage_outcomes = [1,2,3,4,5,6]\n",
    "second_sim = 100\n",
    "second_trials = 4\n",
    "\n",
    "second_rolls = np.random.choice(second_mage_outcomes, (second_sim, second_trials))"
   ]
  },
  {
   "cell_type": "code",
   "execution_count": 23,
   "id": "47fc3a9a",
   "metadata": {},
   "outputs": [],
   "source": [
    "first_sum = first_rolls.sum(axis=1)\n",
    "second_sum = second_rolls.sum(axis=1)"
   ]
  },
  {
   "cell_type": "code",
   "execution_count": 24,
   "id": "c887223b",
   "metadata": {},
   "outputs": [
    {
     "data": {
      "text/plain": [
       "0.61"
      ]
     },
     "execution_count": 24,
     "metadata": {},
     "output_type": "execute_result"
    }
   ],
   "source": [
    "(first_sum > second_sum).mean()"
   ]
  },
  {
   "cell_type": "markdown",
   "id": "89a22240",
   "metadata": {},
   "source": [
    "The results did not change much the first time (0.43), but changed drastically the second time (0.61)."
   ]
  },
  {
   "cell_type": "code",
   "execution_count": 31,
   "id": "e37545b6",
   "metadata": {},
   "outputs": [],
   "source": [
    "# Now, simulate 10,000 mage duels. Is there a clear winner?\n",
    "\n",
    "first_mage_outcomes = [1,2,3,4]\n",
    "first_sim = 10000\n",
    "first_trials = 6\n",
    "\n",
    "first_rolls = np.random.choice(first_mage_outcomes, (first_sim, first_trials))\n",
    "\n",
    "second_mage_outcomes = [1,2,3,4,5,6]\n",
    "second_sim = 10000\n",
    "second_trials = 4\n",
    "\n",
    "second_rolls = np.random.choice(second_mage_outcomes, (second_sim, second_trials))"
   ]
  },
  {
   "cell_type": "code",
   "execution_count": 32,
   "id": "11ee89de",
   "metadata": {},
   "outputs": [],
   "source": [
    "first_sum = first_rolls.sum(axis=1)\n",
    "second_sum = second_rolls.sum(axis=1)"
   ]
  },
  {
   "cell_type": "code",
   "execution_count": 33,
   "id": "3eb4269f",
   "metadata": {},
   "outputs": [
    {
     "data": {
      "text/plain": [
       "0.5454"
      ]
     },
     "execution_count": 33,
     "metadata": {},
     "output_type": "execute_result"
    }
   ],
   "source": [
    "(first_sum > second_sum).mean()"
   ]
  },
  {
   "cell_type": "markdown",
   "id": "912e6279",
   "metadata": {},
   "source": [
    "At 10,000 simulations, 6d4 mage wins 55 percent of the time against 4d6 mage."
   ]
  }
 ],
 "metadata": {
  "kernelspec": {
   "display_name": "Python 3 (ipykernel)",
   "language": "python",
   "name": "python3"
  },
  "language_info": {
   "codemirror_mode": {
    "name": "ipython",
    "version": 3
   },
   "file_extension": ".py",
   "mimetype": "text/x-python",
   "name": "python",
   "nbconvert_exporter": "python",
   "pygments_lexer": "ipython3",
   "version": "3.9.12"
  }
 },
 "nbformat": 4,
 "nbformat_minor": 5
}
