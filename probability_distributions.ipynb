{
 "cells": [
  {
   "cell_type": "markdown",
   "id": "75cdd086",
   "metadata": {},
   "source": [
    "For the following problems, use python to simulate the problem and calculate an experimental probability, then compare that to the theoretical probability."
   ]
  },
  {
   "cell_type": "markdown",
   "id": "78367880",
   "metadata": {},
   "source": [
    "A bank found that the average number of cars waiting during the noon hour at a drive-up window follows a Poisson distribution with a mean of 2 cars. Make a chart of this distribution and answer these questions concerning the probability of cars waiting at the drive-up window."
   ]
  },
  {
   "cell_type": "code",
   "execution_count": 36,
   "id": "d458cc87",
   "metadata": {},
   "outputs": [],
   "source": [
    "import numpy as np\n",
    "from scipy import stats\n",
    "import matplotlib.pyplot as plt"
   ]
  },
  {
   "cell_type": "code",
   "execution_count": 37,
   "id": "82f3e61e",
   "metadata": {},
   "outputs": [
    {
     "data": {
      "text/plain": [
       "0.1353352832366127"
      ]
     },
     "execution_count": 37,
     "metadata": {},
     "output_type": "execute_result"
    }
   ],
   "source": [
    "# What is the probability that no cars drive up in the noon hour?\n",
    "\n",
    "λ = 2\n",
    "noon_cars = stats.poisson(λ)\n",
    "noon_cars.pmf(0)\n"
   ]
  },
  {
   "cell_type": "code",
   "execution_count": 46,
   "id": "2a49536c",
   "metadata": {},
   "outputs": [
    {
     "data": {
      "image/png": "[encoded data removed]",
      "text/plain": [
       "<Figure size 432x288 with 1 Axes>"
      ]
     },
     "metadata": {
      "needs_background": "light"
     },
     "output_type": "display_data"
    }
   ],
   "source": [
    "x = np.arange(0, 9, 0.5)\n",
    "y = stats.poisson.pmf(x, mu=2)\n",
    "plt.bar(x,y)\n",
    "plt.show()"
   ]
  },
  {
   "cell_type": "code",
   "execution_count": 4,
   "id": "3ff4f851",
   "metadata": {},
   "outputs": [
    {
     "data": {
      "text/plain": [
       "0.32332358381693654"
      ]
     },
     "execution_count": 4,
     "metadata": {},
     "output_type": "execute_result"
    }
   ],
   "source": [
    "# What is the probability that 3 or more cars come through the drive through?\n",
    "\n",
    "noon_cars.sf(2)"
   ]
  },
  {
   "cell_type": "code",
   "execution_count": 47,
   "id": "6f728f27",
   "metadata": {},
   "outputs": [
    {
     "data": {
      "text/plain": [
       "0.8646647167633873"
      ]
     },
     "execution_count": 47,
     "metadata": {},
     "output_type": "execute_result"
    }
   ],
   "source": [
    "# How likely is it that the drive through gets at least 1 car?\n",
    "\n",
    "noon_cars.sf(0)"
   ]
  },
  {
   "cell_type": "markdown",
   "id": "d080f2a3",
   "metadata": {},
   "source": [
    "Grades of State University graduates are normally distributed with a mean of 3.0 and a standard deviation of .3. Calculate the following:"
   ]
  },
  {
   "cell_type": "code",
   "execution_count": 6,
   "id": "6ac61e89",
   "metadata": {},
   "outputs": [
    {
     "data": {
      "text/plain": [
       "3.4934560880854417"
      ]
     },
     "execution_count": 6,
     "metadata": {},
     "output_type": "execute_result"
    }
   ],
   "source": [
    "# What grade point average is required to be in the top 5% of the graduating class?\n",
    "\n",
    "μ = 3.0\n",
    "σ = 0.3\n",
    "\n",
    "grades = stats.norm(μ,σ)\n",
    "\n",
    "grades.isf(.05)"
   ]
  },
  {
   "cell_type": "code",
   "execution_count": 7,
   "id": "f677a672",
   "metadata": {},
   "outputs": [
    {
     "data": {
      "text/plain": [
       "2.689069983151863"
      ]
     },
     "execution_count": 7,
     "metadata": {},
     "output_type": "execute_result"
    }
   ],
   "source": [
    "# What GPA constitutes the bottom 15% of the class?\n",
    "\n",
    "grades.ppf(.15)"
   ]
  },
  {
   "cell_type": "code",
   "execution_count": 8,
   "id": "008ce5b8",
   "metadata": {},
   "outputs": [
    {
     "data": {
      "text/plain": [
       "2.842679846187588"
      ]
     },
     "execution_count": 8,
     "metadata": {},
     "output_type": "execute_result"
    }
   ],
   "source": [
    "# An eccentric alumnus left scholarship money for students in the third decile from the bottom of their class. \n",
    "# Determine the range of the third decile. Would a student with a 2.8 grade point average qualify for this scholarship?\n",
    "\n",
    "grades.ppf(.3)"
   ]
  },
  {
   "cell_type": "code",
   "execution_count": 9,
   "id": "c09fd082",
   "metadata": {},
   "outputs": [
    {
     "data": {
      "text/plain": [
       "3.2524863700718742"
      ]
     },
     "execution_count": 9,
     "metadata": {},
     "output_type": "execute_result"
    }
   ],
   "source": [
    "grades.isf(.2)"
   ]
  },
  {
   "cell_type": "code",
   "execution_count": 10,
   "id": "0ba4e36e",
   "metadata": {},
   "outputs": [
    {
     "data": {
      "text/plain": [
       "0.9522096477271853"
      ]
     },
     "execution_count": 10,
     "metadata": {},
     "output_type": "execute_result"
    }
   ],
   "source": [
    "# If I have a GPA of 3.5, what percentile am I in?\n",
    "\n",
    "grades.cdf(3.5)"
   ]
  },
  {
   "cell_type": "markdown",
   "id": "46612fa1",
   "metadata": {},
   "source": [
    "A marketing website has an average click-through rate of 2%. \n",
    "One day they observe 4326 visitors and 97 click-throughs."
   ]
  },
  {
   "cell_type": "code",
   "execution_count": 11,
   "id": "eafe8765",
   "metadata": {},
   "outputs": [
    {
     "data": {
      "text/plain": [
       "0.13975823631416448"
      ]
     },
     "execution_count": 11,
     "metadata": {},
     "output_type": "execute_result"
    }
   ],
   "source": [
    "# How likely is it that this many people or more click through?\n",
    "\n",
    "trials = 4326\n",
    "prob = .02\n",
    "\n",
    "click_through = stats.binom(trials, prob)\n",
    "\n",
    "click_through.sf(96)"
   ]
  },
  {
   "cell_type": "markdown",
   "id": "807bd242",
   "metadata": {},
   "source": [
    "You are working on some statistics homework consisting of 100 questions where all of the answers are a probability rounded to the hundreths place. Looking to save time, you put down random probabilities as the answer to each question."
   ]
  },
  {
   "cell_type": "code",
   "execution_count": 12,
   "id": "7b77bb92",
   "metadata": {},
   "outputs": [
    {
     "data": {
      "text/plain": [
       "0.45284335760923855"
      ]
     },
     "execution_count": 12,
     "metadata": {},
     "output_type": "execute_result"
    }
   ],
   "source": [
    "# What is the probability that at least one of your first 60 answers is correct?\n",
    "\n",
    "random_answers = stats.binom(60, .01).sf(0)\n",
    "random_answers"
   ]
  },
  {
   "cell_type": "code",
   "execution_count": 13,
   "id": "0d7f4893",
   "metadata": {},
   "outputs": [
    {
     "data": {
      "text/plain": [
       "0.8362274861228872"
      ]
     },
     "execution_count": 13,
     "metadata": {},
     "output_type": "execute_result"
    }
   ],
   "source": [
    "# The codeup staff tends to get upset when the student break area is not cleaned up. \n",
    "# Suppose that there's a 3% chance that any one student cleans the break area when they visit it, \n",
    "# and, on any given day, about 90% of the 3 active cohorts of 22 students visit the break area. \n",
    "# How likely is it that the break area gets cleaned up each day? \n",
    "\n",
    "trials = (66 * .9)\n",
    "prob = .03\n",
    "\n",
    "cleaned = stats.binom(trials, prob)\n",
    "cleaned.sf(0)"
   ]
  },
  {
   "cell_type": "code",
   "execution_count": 14,
   "id": "3cd1900a",
   "metadata": {},
   "outputs": [
    {
     "data": {
      "text/plain": [
       "0.02689600000000001"
      ]
     },
     "execution_count": 14,
     "metadata": {},
     "output_type": "execute_result"
    }
   ],
   "source": [
    "# How likely is it that it goes two days without getting cleaned up?\n",
    "\n",
    "days = 2\n",
    "prob_clean = .836\n",
    "\n",
    "two_days_cleaned = stats.binom(days, prob_clean)\n",
    "two_days_cleaned.pmf(0)"
   ]
  },
  {
   "cell_type": "code",
   "execution_count": 15,
   "id": "608a9735",
   "metadata": {},
   "outputs": [
    {
     "data": {
      "text/plain": [
       "3.190854023266309e-06"
      ]
     },
     "execution_count": 15,
     "metadata": {},
     "output_type": "execute_result"
    }
   ],
   "source": [
    "# All week?\n",
    "\n",
    "days_week = 7\n",
    "cleaned_week = stats.binom(days_week, prob_clean)\n",
    "cleaned_week.pmf(0)"
   ]
  },
  {
   "cell_type": "code",
   "execution_count": 16,
   "id": "72894200",
   "metadata": {},
   "outputs": [],
   "source": [
    "# You want to get lunch at La Panaderia, but notice that the line is usually very long at lunchtime. \n",
    "# After several weeks of careful observation, you notice that the average number of people in line when \n",
    "# your lunch break starts is normally distributed with a mean of 15 and standard deviation of 3. \n",
    "# If it takes 2 minutes for each person to order, and 10 minutes from ordering to getting your food, \n",
    "# what is the likelihood that you have at least 15 minutes left to eat your food before you have to go \n",
    "# back to class? Assume you have one hour for lunch, and ignore travel time to and from La Panaderia.\n",
    "\n",
    "μ = 15\n",
    "σ = 3\n",
    "people_in_line = stats.norm(μ,σ)\n",
    "\n",
    "# time_in_line = 2 * people_in_line\n",
    "# time_get_food = 10\n"
   ]
  },
  {
   "cell_type": "markdown",
   "id": "7750a1bb",
   "metadata": {},
   "source": [
    "Connect to the employees database and find the average salary of current employees, along with the standard deviation. For the following questions, calculate the answer based on modeling the employees salaries with a normal distribution defined by the calculated mean and standard deviation then compare this answer to the actual values present in the salaries dataset.\n"
   ]
  },
  {
   "cell_type": "code",
   "execution_count": 17,
   "id": "cbcea079",
   "metadata": {},
   "outputs": [],
   "source": [
    "import pandas as pd"
   ]
  },
  {
   "cell_type": "code",
   "execution_count": 18,
   "id": "3b4c8c07",
   "metadata": {},
   "outputs": [],
   "source": [
    "import env\n",
    "user = env.user\n",
    "password = env.password\n",
    "host = env.host\n",
    "db = 'employees'"
   ]
  },
  {
   "cell_type": "code",
   "execution_count": 19,
   "id": "1c444884",
   "metadata": {},
   "outputs": [],
   "source": [
    "def get_db_url(db, env):\n",
    "    if env:\n",
    "        user, password, host = (env.user, env.password, env.host)\n",
    "        return f'mysql+pymysql://{user}:{password}@{host}/{db}'\n",
    "    else:\n",
    "        return 'Access denied.'"
   ]
  },
  {
   "cell_type": "code",
   "execution_count": 20,
   "id": "512e1ae5",
   "metadata": {},
   "outputs": [],
   "source": [
    "access_db = get_db_url"
   ]
  },
  {
   "cell_type": "code",
   "execution_count": 21,
   "id": "a1b9e5ff",
   "metadata": {},
   "outputs": [],
   "source": [
    "query = '''SELECT s.salary\n",
    "            FROM salaries as s\n",
    "            JOIN dept_emp as de ON s.emp_no = de.emp_no\n",
    "            WHERE de.to_date > CURDATE();'''"
   ]
  },
  {
   "cell_type": "code",
   "execution_count": 22,
   "id": "c838811a",
   "metadata": {},
   "outputs": [],
   "source": [
    "employees = pd.read_sql(query, access_db(db, env))"
   ]
  },
  {
   "cell_type": "code",
   "execution_count": 23,
   "id": "aa0c88f3",
   "metadata": {},
   "outputs": [],
   "source": [
    "μ = employees.mean()\n",
    "σ = employees.std()"
   ]
  },
  {
   "cell_type": "code",
   "execution_count": 24,
   "id": "8f24bbf0",
   "metadata": {},
   "outputs": [
    {
     "data": {
      "text/plain": [
       "array([0.39989729])"
      ]
     },
     "execution_count": 24,
     "metadata": {},
     "output_type": "execute_result"
    }
   ],
   "source": [
    "# What percent of employees earn less than 60,000?\n",
    "\n",
    "employee_salaries = stats.norm(μ, σ)\n",
    "employee_salaries.cdf(60000)"
   ]
  },
  {
   "cell_type": "code",
   "execution_count": 25,
   "id": "f26c6c81",
   "metadata": {},
   "outputs": [
    {
     "data": {
      "text/plain": [
       "array([0.03513031])"
      ]
     },
     "execution_count": 25,
     "metadata": {},
     "output_type": "execute_result"
    }
   ],
   "source": [
    "# What percent of employees earn more than 95,000?\n",
    "\n",
    "employee_salaries.sf(95000)"
   ]
  },
  {
   "cell_type": "code",
   "execution_count": 30,
   "id": "b964d85a",
   "metadata": {},
   "outputs": [
    {
     "data": {
      "text/plain": [
       "array([0.30626503])"
      ]
     },
     "execution_count": 30,
     "metadata": {},
     "output_type": "execute_result"
    }
   ],
   "source": [
    "# What percent of employees earn between 65,000 and 80,000?\n",
    "\n",
    "employee_salaries.cdf(80000) - employee_salaries.cdf(65000)"
   ]
  },
  {
   "cell_type": "code",
   "execution_count": 27,
   "id": "21e03477",
   "metadata": {},
   "outputs": [
    {
     "data": {
      "text/plain": [
       "array([92195.48979331])"
      ]
     },
     "execution_count": 27,
     "metadata": {},
     "output_type": "execute_result"
    }
   ],
   "source": [
    "# What do the top 5% of employees make?\n",
    "\n",
    "employee_salaries.isf(.05)"
   ]
  },
  {
   "cell_type": "markdown",
   "id": "b1a60c9c",
   "metadata": {},
   "source": [
    "Hint If you're looking at this exercise and wondering \"How do I get pandas to talk the database, again?\", remember that you'll need 3 things: your .gitignore, your env.py, and to use pd.read_sql. Copy over your .gitignore and env.py from your data science libraries exercises folder, and connect to the employees database like so:\n",
    "\n",
    "\n",
    "import pandas as pd\n",
    "import env\n",
    "\n",
    "url = f'mysql+pymysql://{env.user}:{env.password}@{env.host}/employees'\n",
    "pd.read_sql('SELECT * FROM departments', url)"
   ]
  },
  {
   "cell_type": "code",
   "execution_count": null,
   "id": "4d5c600d",
   "metadata": {},
   "outputs": [],
   "source": []
  }
 ],
 "metadata": {
  "kernelspec": {
   "display_name": "Python 3 (ipykernel)",
   "language": "python",
   "name": "python3"
  },
  "language_info": {
   "codemirror_mode": {
    "name": "ipython",
    "version": 3
   },
   "file_extension": ".py",
   "mimetype": "text/x-python",
   "name": "python",
   "nbconvert_exporter": "python",
   "pygments_lexer": "ipython3",
   "version": "3.9.12"
  }
 },
 "nbformat": 4,
 "nbformat_minor": 5
}
