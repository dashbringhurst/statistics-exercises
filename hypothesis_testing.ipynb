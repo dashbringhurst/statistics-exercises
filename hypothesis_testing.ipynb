{
 "cells": [
  {
   "cell_type": "markdown",
   "id": "042f1e15",
   "metadata": {},
   "source": [
    "For each of the following questions, formulate a null and alternative hypothesis (be as specific as you can be), then give an example of what a true positive, true negative, type I and type II errors would look like. Note that some of the questions are intentionally phrased in a vague way. It is your job to reword these as more precise questions that could be tested.\n",
    "\n",
    "Has the network latency gone up since we switched internet service providers?\n",
    "\n",
    "Is the website redesign any good?\n",
    "\n",
    "Is our television ad driving more sales?"
   ]
  },
  {
   "cell_type": "markdown",
   "id": "c796cc83",
   "metadata": {},
   "source": [
    "Has the network latency increased since we switched internet service providers?\n",
    "\n",
    "Null hypothesis: The new internet service provider has not increased network latency.\n",
    "\n",
    "Alternative hypothesis: The new internet service provider has resulted in an increase in network latency. (one-tail test)\n",
    "\n",
    "True positive: The test rejects the null hypothesis and the network latency has increased since switching internet service providers.\n",
    "\n",
    "True negative: The test fails to reject the null hypothesis and the network latency has not increased since switching internet providers.\n",
    "\n",
    "False positive: The test rejects the null hypothesis but the switch to another internet service provider did not actually increase network latency.\n",
    "\n",
    "False negative: The test fails to reject the null hypothesis but the switch to another internet service provider did increase network latency."
   ]
  },
  {
   "cell_type": "markdown",
   "id": "d4c942fa",
   "metadata": {},
   "source": [
    "Does the new website design increase the average monthly rate of customers who join?\n",
    "\n",
    "Null hypothesis: The new website design has no effect on the average monthly rate of new customers.\n",
    "\n",
    "Alternative hypothesis: The new website design has affected the average monthly rate of new customers.\n",
    "\n",
    "True positive: The null hypothesis is rejected and the website has actually influenced the rate of new customers per month.\n",
    "\n",
    "True negative: The test fails to reject the null hypothesis and the website indeed has no effect on the average amount of new customers per month. \n",
    "\n",
    "False positive: The test rejects the null hypothesis, but the website does not affect the average amount of new customers per month.\n",
    "\n",
    "False negative: The test fails to reject the null hypothesis, but the website does indeed affect the average amount of new customers per month."
   ]
  },
  {
   "cell_type": "markdown",
   "id": "c354e1d0",
   "metadata": {},
   "source": [
    "Does our television ad affect sales?\n",
    "\n",
    "Null hypothesis: Our television ad has no effect on sales.\n",
    "\n",
    "Alternative Hypothesis: Our television ad positively affects sales.\n",
    "\n",
    "True positive: The test rejects the null hypothesis and the ad has positively affected sales.\n",
    "\n",
    "True negative: The test fails to reject the null hypothesis and the ad has had no effect on sales.\n",
    "\n",
    "False positive: The test rejects the null hypothesis but the ad does not affect sales.\n",
    "\n",
    "False negative: The test fails to reject the null hypothesis but the ad does indeed affect sales."
   ]
  },
  {
   "cell_type": "code",
   "execution_count": 1,
   "id": "69bba7bb",
   "metadata": {},
   "outputs": [],
   "source": [
    "import numpy as np\n",
    "from scipy import stats\n",
    "import pandas as pd\n",
    "import matplotlib.pyplot as plt\n",
    "import seaborn as sns\n",
    "from pydataset import data"
   ]
  },
  {
   "cell_type": "markdown",
   "id": "e40fa61a",
   "metadata": {},
   "source": [
    "Ace Realty wants to determine whether the average time it takes to sell homes is different for its two offices. A sample of 40 sales from office #1 revealed a mean of 90 days and a standard deviation of 15 days. A sample of 50 sales from office #2 revealed a mean of 100 days and a standard deviation of 20 days. Use a .05 level of significance."
   ]
  },
  {
   "cell_type": "code",
   "execution_count": 2,
   "id": "42ec217c",
   "metadata": {},
   "outputs": [],
   "source": [
    "m1 = 90.0\n",
    "σ1 = 15\n",
    "n1 = 40\n",
    "\n",
    "m2 = 100.0\n",
    "σ2 = 20\n",
    "n2 = 50\n",
    "\n",
    "alpha = .05\n",
    "\n",
    "# H0: μ1 == μ2\n",
    "# Ha: μ1 != μ2"
   ]
  },
  {
   "cell_type": "code",
   "execution_count": 3,
   "id": "edb9c9a5",
   "metadata": {},
   "outputs": [],
   "source": [
    "t, p = stats.ttest_ind_from_stats(mean1=90, std1=15, nobs1=40, mean2=100, std2=20, nobs2=50)"
   ]
  },
  {
   "cell_type": "code",
   "execution_count": 4,
   "id": "1725946f",
   "metadata": {},
   "outputs": [
    {
     "data": {
      "text/plain": [
       "(-2.6252287036468456, 0.01020985244923939)"
      ]
     },
     "execution_count": 4,
     "metadata": {},
     "output_type": "execute_result"
    }
   ],
   "source": [
    "t, p"
   ]
  },
  {
   "cell_type": "code",
   "execution_count": 5,
   "id": "fd7795d8",
   "metadata": {},
   "outputs": [
    {
     "name": "stdout",
     "output_type": "stream",
     "text": [
      "We can reject the null hypothesis.\n"
     ]
    }
   ],
   "source": [
    "if p < alpha:\n",
    "    print('We can reject the null hypothesis.')\n",
    "else:\n",
    "    print('We cannot reject the null hypothesis.')"
   ]
  },
  {
   "cell_type": "markdown",
   "id": "eadecf78",
   "metadata": {},
   "source": [
    "#### Load the mpg dataset and use it to answer the following questions:\n",
    "\n",
    "#### Is there a difference in fuel-efficiency in cars from 2008 vs 1999?"
   ]
  },
  {
   "cell_type": "code",
   "execution_count": 6,
   "id": "b507c123",
   "metadata": {},
   "outputs": [],
   "source": [
    "df = data('mpg')"
   ]
  },
  {
   "cell_type": "code",
   "execution_count": 7,
   "id": "00069945",
   "metadata": {},
   "outputs": [
    {
     "data": {
      "text/html": [
       "<div>\n",
       "<style scoped>\n",
       "    .dataframe tbody tr th:only-of-type {\n",
       "        vertical-align: middle;\n",
       "    }\n",
       "\n",
       "    .dataframe tbody tr th {\n",
       "        vertical-align: top;\n",
       "    }\n",
       "\n",
       "    .dataframe thead th {\n",
       "        text-align: right;\n",
       "    }\n",
       "</style>\n",
       "<table border=\"1\" class=\"dataframe\">\n",
       "  <thead>\n",
       "    <tr style=\"text-align: right;\">\n",
       "      <th></th>\n",
       "      <th>manufacturer</th>\n",
       "      <th>model</th>\n",
       "      <th>displ</th>\n",
       "      <th>year</th>\n",
       "      <th>cyl</th>\n",
       "      <th>trans</th>\n",
       "      <th>drv</th>\n",
       "      <th>cty</th>\n",
       "      <th>hwy</th>\n",
       "      <th>fl</th>\n",
       "      <th>class</th>\n",
       "    </tr>\n",
       "  </thead>\n",
       "  <tbody>\n",
       "    <tr>\n",
       "      <th>1</th>\n",
       "      <td>audi</td>\n",
       "      <td>a4</td>\n",
       "      <td>1.8</td>\n",
       "      <td>1999</td>\n",
       "      <td>4</td>\n",
       "      <td>auto(l5)</td>\n",
       "      <td>f</td>\n",
       "      <td>18</td>\n",
       "      <td>29</td>\n",
       "      <td>p</td>\n",
       "      <td>compact</td>\n",
       "    </tr>\n",
       "    <tr>\n",
       "      <th>2</th>\n",
       "      <td>audi</td>\n",
       "      <td>a4</td>\n",
       "      <td>1.8</td>\n",
       "      <td>1999</td>\n",
       "      <td>4</td>\n",
       "      <td>manual(m5)</td>\n",
       "      <td>f</td>\n",
       "      <td>21</td>\n",
       "      <td>29</td>\n",
       "      <td>p</td>\n",
       "      <td>compact</td>\n",
       "    </tr>\n",
       "    <tr>\n",
       "      <th>3</th>\n",
       "      <td>audi</td>\n",
       "      <td>a4</td>\n",
       "      <td>2.0</td>\n",
       "      <td>2008</td>\n",
       "      <td>4</td>\n",
       "      <td>manual(m6)</td>\n",
       "      <td>f</td>\n",
       "      <td>20</td>\n",
       "      <td>31</td>\n",
       "      <td>p</td>\n",
       "      <td>compact</td>\n",
       "    </tr>\n",
       "    <tr>\n",
       "      <th>4</th>\n",
       "      <td>audi</td>\n",
       "      <td>a4</td>\n",
       "      <td>2.0</td>\n",
       "      <td>2008</td>\n",
       "      <td>4</td>\n",
       "      <td>auto(av)</td>\n",
       "      <td>f</td>\n",
       "      <td>21</td>\n",
       "      <td>30</td>\n",
       "      <td>p</td>\n",
       "      <td>compact</td>\n",
       "    </tr>\n",
       "    <tr>\n",
       "      <th>5</th>\n",
       "      <td>audi</td>\n",
       "      <td>a4</td>\n",
       "      <td>2.8</td>\n",
       "      <td>1999</td>\n",
       "      <td>6</td>\n",
       "      <td>auto(l5)</td>\n",
       "      <td>f</td>\n",
       "      <td>16</td>\n",
       "      <td>26</td>\n",
       "      <td>p</td>\n",
       "      <td>compact</td>\n",
       "    </tr>\n",
       "  </tbody>\n",
       "</table>\n",
       "</div>"
      ],
      "text/plain": [
       "  manufacturer model  displ  year  cyl       trans drv  cty  hwy fl    class\n",
       "1         audi    a4    1.8  1999    4    auto(l5)   f   18   29  p  compact\n",
       "2         audi    a4    1.8  1999    4  manual(m5)   f   21   29  p  compact\n",
       "3         audi    a4    2.0  2008    4  manual(m6)   f   20   31  p  compact\n",
       "4         audi    a4    2.0  2008    4    auto(av)   f   21   30  p  compact\n",
       "5         audi    a4    2.8  1999    6    auto(l5)   f   16   26  p  compact"
      ]
     },
     "execution_count": 7,
     "metadata": {},
     "output_type": "execute_result"
    }
   ],
   "source": [
    "df.head()"
   ]
  },
  {
   "cell_type": "code",
   "execution_count": 8,
   "id": "95e50593",
   "metadata": {},
   "outputs": [
    {
     "data": {
      "text/html": [
       "<div>\n",
       "<style scoped>\n",
       "    .dataframe tbody tr th:only-of-type {\n",
       "        vertical-align: middle;\n",
       "    }\n",
       "\n",
       "    .dataframe tbody tr th {\n",
       "        vertical-align: top;\n",
       "    }\n",
       "\n",
       "    .dataframe thead th {\n",
       "        text-align: right;\n",
       "    }\n",
       "</style>\n",
       "<table border=\"1\" class=\"dataframe\">\n",
       "  <thead>\n",
       "    <tr style=\"text-align: right;\">\n",
       "      <th></th>\n",
       "      <th>manufacturer</th>\n",
       "      <th>model</th>\n",
       "      <th>displ</th>\n",
       "      <th>year</th>\n",
       "      <th>cyl</th>\n",
       "      <th>trans</th>\n",
       "      <th>drv</th>\n",
       "      <th>cty</th>\n",
       "      <th>hwy</th>\n",
       "      <th>fl</th>\n",
       "      <th>class</th>\n",
       "    </tr>\n",
       "  </thead>\n",
       "  <tbody>\n",
       "    <tr>\n",
       "      <th>1</th>\n",
       "      <td>audi</td>\n",
       "      <td>a4</td>\n",
       "      <td>1.8</td>\n",
       "      <td>1999</td>\n",
       "      <td>4</td>\n",
       "      <td>auto(l5)</td>\n",
       "      <td>f</td>\n",
       "      <td>18</td>\n",
       "      <td>29</td>\n",
       "      <td>p</td>\n",
       "      <td>compact</td>\n",
       "    </tr>\n",
       "    <tr>\n",
       "      <th>2</th>\n",
       "      <td>audi</td>\n",
       "      <td>a4</td>\n",
       "      <td>1.8</td>\n",
       "      <td>1999</td>\n",
       "      <td>4</td>\n",
       "      <td>manual(m5)</td>\n",
       "      <td>f</td>\n",
       "      <td>21</td>\n",
       "      <td>29</td>\n",
       "      <td>p</td>\n",
       "      <td>compact</td>\n",
       "    </tr>\n",
       "    <tr>\n",
       "      <th>3</th>\n",
       "      <td>audi</td>\n",
       "      <td>a4</td>\n",
       "      <td>2.0</td>\n",
       "      <td>2008</td>\n",
       "      <td>4</td>\n",
       "      <td>manual(m6)</td>\n",
       "      <td>f</td>\n",
       "      <td>20</td>\n",
       "      <td>31</td>\n",
       "      <td>p</td>\n",
       "      <td>compact</td>\n",
       "    </tr>\n",
       "    <tr>\n",
       "      <th>4</th>\n",
       "      <td>audi</td>\n",
       "      <td>a4</td>\n",
       "      <td>2.0</td>\n",
       "      <td>2008</td>\n",
       "      <td>4</td>\n",
       "      <td>auto(av)</td>\n",
       "      <td>f</td>\n",
       "      <td>21</td>\n",
       "      <td>30</td>\n",
       "      <td>p</td>\n",
       "      <td>compact</td>\n",
       "    </tr>\n",
       "    <tr>\n",
       "      <th>5</th>\n",
       "      <td>audi</td>\n",
       "      <td>a4</td>\n",
       "      <td>2.8</td>\n",
       "      <td>1999</td>\n",
       "      <td>6</td>\n",
       "      <td>auto(l5)</td>\n",
       "      <td>f</td>\n",
       "      <td>16</td>\n",
       "      <td>26</td>\n",
       "      <td>p</td>\n",
       "      <td>compact</td>\n",
       "    </tr>\n",
       "    <tr>\n",
       "      <th>...</th>\n",
       "      <td>...</td>\n",
       "      <td>...</td>\n",
       "      <td>...</td>\n",
       "      <td>...</td>\n",
       "      <td>...</td>\n",
       "      <td>...</td>\n",
       "      <td>...</td>\n",
       "      <td>...</td>\n",
       "      <td>...</td>\n",
       "      <td>...</td>\n",
       "      <td>...</td>\n",
       "    </tr>\n",
       "    <tr>\n",
       "      <th>230</th>\n",
       "      <td>volkswagen</td>\n",
       "      <td>passat</td>\n",
       "      <td>2.0</td>\n",
       "      <td>2008</td>\n",
       "      <td>4</td>\n",
       "      <td>auto(s6)</td>\n",
       "      <td>f</td>\n",
       "      <td>19</td>\n",
       "      <td>28</td>\n",
       "      <td>p</td>\n",
       "      <td>midsize</td>\n",
       "    </tr>\n",
       "    <tr>\n",
       "      <th>231</th>\n",
       "      <td>volkswagen</td>\n",
       "      <td>passat</td>\n",
       "      <td>2.0</td>\n",
       "      <td>2008</td>\n",
       "      <td>4</td>\n",
       "      <td>manual(m6)</td>\n",
       "      <td>f</td>\n",
       "      <td>21</td>\n",
       "      <td>29</td>\n",
       "      <td>p</td>\n",
       "      <td>midsize</td>\n",
       "    </tr>\n",
       "    <tr>\n",
       "      <th>232</th>\n",
       "      <td>volkswagen</td>\n",
       "      <td>passat</td>\n",
       "      <td>2.8</td>\n",
       "      <td>1999</td>\n",
       "      <td>6</td>\n",
       "      <td>auto(l5)</td>\n",
       "      <td>f</td>\n",
       "      <td>16</td>\n",
       "      <td>26</td>\n",
       "      <td>p</td>\n",
       "      <td>midsize</td>\n",
       "    </tr>\n",
       "    <tr>\n",
       "      <th>233</th>\n",
       "      <td>volkswagen</td>\n",
       "      <td>passat</td>\n",
       "      <td>2.8</td>\n",
       "      <td>1999</td>\n",
       "      <td>6</td>\n",
       "      <td>manual(m5)</td>\n",
       "      <td>f</td>\n",
       "      <td>18</td>\n",
       "      <td>26</td>\n",
       "      <td>p</td>\n",
       "      <td>midsize</td>\n",
       "    </tr>\n",
       "    <tr>\n",
       "      <th>234</th>\n",
       "      <td>volkswagen</td>\n",
       "      <td>passat</td>\n",
       "      <td>3.6</td>\n",
       "      <td>2008</td>\n",
       "      <td>6</td>\n",
       "      <td>auto(s6)</td>\n",
       "      <td>f</td>\n",
       "      <td>17</td>\n",
       "      <td>26</td>\n",
       "      <td>p</td>\n",
       "      <td>midsize</td>\n",
       "    </tr>\n",
       "  </tbody>\n",
       "</table>\n",
       "<p>234 rows × 11 columns</p>\n",
       "</div>"
      ],
      "text/plain": [
       "    manufacturer   model  displ  year  cyl       trans drv  cty  hwy fl  \\\n",
       "1           audi      a4    1.8  1999    4    auto(l5)   f   18   29  p   \n",
       "2           audi      a4    1.8  1999    4  manual(m5)   f   21   29  p   \n",
       "3           audi      a4    2.0  2008    4  manual(m6)   f   20   31  p   \n",
       "4           audi      a4    2.0  2008    4    auto(av)   f   21   30  p   \n",
       "5           audi      a4    2.8  1999    6    auto(l5)   f   16   26  p   \n",
       "..           ...     ...    ...   ...  ...         ...  ..  ...  ... ..   \n",
       "230   volkswagen  passat    2.0  2008    4    auto(s6)   f   19   28  p   \n",
       "231   volkswagen  passat    2.0  2008    4  manual(m6)   f   21   29  p   \n",
       "232   volkswagen  passat    2.8  1999    6    auto(l5)   f   16   26  p   \n",
       "233   volkswagen  passat    2.8  1999    6  manual(m5)   f   18   26  p   \n",
       "234   volkswagen  passat    3.6  2008    6    auto(s6)   f   17   26  p   \n",
       "\n",
       "       class  \n",
       "1    compact  \n",
       "2    compact  \n",
       "3    compact  \n",
       "4    compact  \n",
       "5    compact  \n",
       "..       ...  \n",
       "230  midsize  \n",
       "231  midsize  \n",
       "232  midsize  \n",
       "233  midsize  \n",
       "234  midsize  \n",
       "\n",
       "[234 rows x 11 columns]"
      ]
     },
     "execution_count": 8,
     "metadata": {},
     "output_type": "execute_result"
    }
   ],
   "source": [
    "df.dropna()"
   ]
  },
  {
   "cell_type": "code",
   "execution_count": 11,
   "id": "7d92ff2e",
   "metadata": {},
   "outputs": [
    {
     "name": "stdout",
     "output_type": "stream",
     "text": [
      "<class 'pandas.core.frame.DataFrame'>\n",
      "Int64Index: 234 entries, 1 to 234\n",
      "Data columns (total 11 columns):\n",
      " #   Column        Non-Null Count  Dtype  \n",
      "---  ------        --------------  -----  \n",
      " 0   manufacturer  234 non-null    object \n",
      " 1   model         234 non-null    object \n",
      " 2   displ         234 non-null    float64\n",
      " 3   year          234 non-null    int64  \n",
      " 4   cyl           234 non-null    int64  \n",
      " 5   trans         234 non-null    object \n",
      " 6   drv           234 non-null    object \n",
      " 7   cty           234 non-null    int64  \n",
      " 8   hwy           234 non-null    int64  \n",
      " 9   fl            234 non-null    object \n",
      " 10  class         234 non-null    object \n",
      "dtypes: float64(1), int64(4), object(6)\n",
      "memory usage: 21.9+ KB\n"
     ]
    }
   ],
   "source": [
    "df.info()"
   ]
  },
  {
   "cell_type": "code",
   "execution_count": 15,
   "id": "c768dcb8",
   "metadata": {},
   "outputs": [
    {
     "data": {
      "text/plain": [
       "1      23.5\n",
       "2      25.0\n",
       "3      25.5\n",
       "4      25.5\n",
       "5      21.0\n",
       "       ... \n",
       "230    23.5\n",
       "231    25.0\n",
       "232    21.0\n",
       "233    22.0\n",
       "234    21.5\n",
       "Name: avg_mpg, Length: 234, dtype: float64"
      ]
     },
     "execution_count": 15,
     "metadata": {},
     "output_type": "execute_result"
    }
   ],
   "source": [
    "df['avg_mpg'] = (df.cty + df.hwy) / 2\n",
    "df.avg_mpg"
   ]
  },
  {
   "cell_type": "code",
   "execution_count": 16,
   "id": "f9297ad6",
   "metadata": {},
   "outputs": [],
   "source": [
    "new_car_mpg = df[df.year == 2008].avg_mpg"
   ]
  },
  {
   "cell_type": "code",
   "execution_count": 18,
   "id": "8ef5ae72",
   "metadata": {},
   "outputs": [],
   "source": [
    "old_car_mpg = df[df.year == 1999].avg_mpg"
   ]
  },
  {
   "cell_type": "code",
   "execution_count": 22,
   "id": "152c4415",
   "metadata": {},
   "outputs": [],
   "source": [
    "stat, pval = stats.levene(new_car_mpg, old_car_mpg)"
   ]
  },
  {
   "cell_type": "code",
   "execution_count": 23,
   "id": "7d828b97",
   "metadata": {},
   "outputs": [
    {
     "name": "stdout",
     "output_type": "stream",
     "text": [
      "We fail to reject the null hypothesis.\n"
     ]
    }
   ],
   "source": [
    "if pval < .05:\n",
    "    print('We reject the null hypothesis.')\n",
    "else:\n",
    "    print('We fail to reject the null hypothesis.')"
   ]
  },
  {
   "cell_type": "code",
   "execution_count": 24,
   "id": "29f698a2",
   "metadata": {},
   "outputs": [],
   "source": [
    "tmpg, pmpg = stats.ttest_ind(new_car_mpg, old_car_mpg)"
   ]
  },
  {
   "cell_type": "code",
   "execution_count": 25,
   "id": "709f0bd6",
   "metadata": {},
   "outputs": [
    {
     "data": {
      "text/plain": [
       "(-0.21960177245940962, 0.8263744040323578)"
      ]
     },
     "execution_count": 25,
     "metadata": {},
     "output_type": "execute_result"
    }
   ],
   "source": [
    "tmpg, pmpg"
   ]
  },
  {
   "cell_type": "code",
   "execution_count": 26,
   "id": "10a5ac23",
   "metadata": {},
   "outputs": [
    {
     "name": "stdout",
     "output_type": "stream",
     "text": [
      "We fail to reject the null hypothesis.\n"
     ]
    }
   ],
   "source": [
    "if pmpg < .05:\n",
    "    print('We can reject the null hypothesis.')\n",
    "else:\n",
    "    print('We fail to reject the null hypothesis.')"
   ]
  },
  {
   "cell_type": "markdown",
   "id": "1a12eb75",
   "metadata": {},
   "source": [
    "#### Are compact cars more fuel-efficient than the average car?"
   ]
  },
  {
   "cell_type": "code",
   "execution_count": 29,
   "id": "9f165f13",
   "metadata": {},
   "outputs": [],
   "source": [
    "compact_eff = df[df['class'] == 'compact'].avg_mpg"
   ]
  },
  {
   "cell_type": "code",
   "execution_count": 32,
   "id": "6d2f778c",
   "metadata": {},
   "outputs": [],
   "source": [
    "avg_eff = df.avg_mpg.mean()"
   ]
  },
  {
   "cell_type": "code",
   "execution_count": null,
   "id": "ff64d9f7",
   "metadata": {},
   "outputs": [],
   "source": [
    "# H0: There is no difference between the fuel efficiency of compact cars compared to the average car.\n",
    "# Ha: Compact cars are more efficient than the average car.\n",
    "\n",
    "# One sample, one-tail t-test: μ of compact fuel efficiency > μ of average car"
   ]
  },
  {
   "cell_type": "code",
   "execution_count": 34,
   "id": "a3b2a242",
   "metadata": {},
   "outputs": [],
   "source": [
    "tfuel, pfuel = stats.ttest_1samp(compact_eff, avg_eff)"
   ]
  },
  {
   "cell_type": "code",
   "execution_count": 35,
   "id": "e07a2ef1",
   "metadata": {},
   "outputs": [
    {
     "name": "stdout",
     "output_type": "stream",
     "text": [
      "We reject the null hypothesis.\n"
     ]
    }
   ],
   "source": [
    "if pfuel < alpha and tfuel > 0:\n",
    "    print('We reject the null hypothesis.')\n",
    "else:\n",
    "    print('We fail to reject the null hypothesis.')"
   ]
  },
  {
   "cell_type": "markdown",
   "id": "e84952a4",
   "metadata": {},
   "source": [
    "#### Do manual cars get better gas mileage than automatic cars?"
   ]
  },
  {
   "cell_type": "code",
   "execution_count": 42,
   "id": "4c375847",
   "metadata": {},
   "outputs": [
    {
     "data": {
      "text/plain": [
       "2      25.0\n",
       "3      25.5\n",
       "6      22.0\n",
       "8      22.0\n",
       "10     24.0\n",
       "13     21.0\n",
       "15     20.0\n",
       "24     21.0\n",
       "26     21.0\n",
       "28     19.5\n",
       "49     17.0\n",
       "52     15.5\n",
       "56     14.0\n",
       "65     14.0\n",
       "69     14.0\n",
       "70     10.5\n",
       "72     13.5\n",
       "79     17.0\n",
       "85     15.5\n",
       "86     14.5\n",
       "91     22.0\n",
       "93     21.5\n",
       "96     18.5\n",
       "97     19.0\n",
       "99     17.0\n",
       "100    30.5\n",
       "102    28.5\n",
       "103    26.0\n",
       "105    30.0\n",
       "108    25.0\n",
       "110    22.5\n",
       "112    26.0\n",
       "114    22.0\n",
       "117    24.0\n",
       "118    24.0\n",
       "121    20.0\n",
       "122    20.5\n",
       "142    25.0\n",
       "145    27.5\n",
       "146    23.0\n",
       "149    22.0\n",
       "152    16.0\n",
       "160    21.5\n",
       "162    23.5\n",
       "163    22.0\n",
       "167    22.5\n",
       "168    22.5\n",
       "172    22.0\n",
       "173    23.5\n",
       "174    17.5\n",
       "177    16.0\n",
       "180    25.0\n",
       "182    26.0\n",
       "185    22.0\n",
       "188    25.0\n",
       "189    26.0\n",
       "192    22.0\n",
       "196    30.5\n",
       "197    32.5\n",
       "201    17.5\n",
       "203    19.5\n",
       "204    16.0\n",
       "206    16.5\n",
       "208    25.0\n",
       "210    25.0\n",
       "212    20.5\n",
       "213    38.5\n",
       "214    25.0\n",
       "217    25.0\n",
       "219    25.0\n",
       "221    20.5\n",
       "222    39.5\n",
       "224    25.0\n",
       "226    24.0\n",
       "228    25.0\n",
       "231    25.0\n",
       "233    22.0\n",
       "Name: avg_mpg, dtype: float64"
      ]
     },
     "execution_count": 42,
     "metadata": {},
     "output_type": "execute_result"
    }
   ],
   "source": [
    "man_mpg = df[df.trans.str.contains('manual')].avg_mpg\n",
    "man_mpg"
   ]
  },
  {
   "cell_type": "code",
   "execution_count": 46,
   "id": "a1bdc915",
   "metadata": {},
   "outputs": [
    {
     "data": {
      "text/plain": [
       "1      23.5\n",
       "4      25.5\n",
       "5      21.0\n",
       "7      22.5\n",
       "9      20.5\n",
       "11     23.0\n",
       "12     20.0\n",
       "14     21.0\n",
       "16     19.5\n",
       "17     21.0\n",
       "18     19.5\n",
       "19     17.0\n",
       "20     13.0\n",
       "21     17.0\n",
       "22     15.0\n",
       "23     14.5\n",
       "25     19.0\n",
       "27     20.0\n",
       "29     16.5\n",
       "30     12.5\n",
       "31     13.0\n",
       "32     15.5\n",
       "33     23.0\n",
       "34     26.0\n",
       "35     22.0\n",
       "36     23.5\n",
       "37     21.5\n",
       "38     21.0\n",
       "39     20.5\n",
       "40     19.0\n",
       "41     19.0\n",
       "42     20.5\n",
       "43     20.5\n",
       "44     14.0\n",
       "45     18.5\n",
       "46     18.0\n",
       "47     19.5\n",
       "48     19.5\n",
       "50     16.0\n",
       "51     15.0\n",
       "53     16.5\n",
       "54     16.5\n",
       "55     10.5\n",
       "57     13.0\n",
       "58     15.0\n",
       "59     15.0\n",
       "60     10.5\n",
       "61     15.0\n",
       "62     13.5\n",
       "63     15.5\n",
       "64     13.0\n",
       "66     10.5\n",
       "67     15.0\n",
       "68     15.0\n",
       "71     13.0\n",
       "73     15.0\n",
       "74     13.0\n",
       "75     14.0\n",
       "76     14.0\n",
       "77     15.0\n",
       "78     15.5\n",
       "80     15.5\n",
       "81     16.0\n",
       "82     16.0\n",
       "83     15.0\n",
       "84     15.5\n",
       "87     14.5\n",
       "88     15.0\n",
       "89     13.0\n",
       "90     15.0\n",
       "92     21.5\n",
       "94     20.0\n",
       "95     18.0\n",
       "98     18.5\n",
       "101    28.0\n",
       "104    28.0\n",
       "106    30.5\n",
       "107    30.0\n",
       "109    22.0\n",
       "111    25.5\n",
       "113    22.0\n",
       "115    23.5\n",
       "116    22.5\n",
       "119    23.5\n",
       "120    20.5\n",
       "123    19.5\n",
       "124    17.0\n",
       "125    17.5\n",
       "126    15.5\n",
       "127    10.5\n",
       "128    16.5\n",
       "129    15.5\n",
       "130    12.5\n",
       "131    13.0\n",
       "132    15.0\n",
       "133    15.0\n",
       "134    13.0\n",
       "135    14.0\n",
       "136    13.5\n",
       "137    15.0\n",
       "138    15.5\n",
       "139    16.0\n",
       "140    16.0\n",
       "141    15.0\n",
       "143    23.0\n",
       "144    27.0\n",
       "147    22.5\n",
       "148    22.0\n",
       "150    22.0\n",
       "151    15.5\n",
       "153    17.0\n",
       "154    15.0\n",
       "155    22.0\n",
       "156    21.0\n",
       "157    22.0\n",
       "158    23.0\n",
       "159    20.5\n",
       "161    21.0\n",
       "164    23.0\n",
       "165    20.5\n",
       "166    23.5\n",
       "169    22.5\n",
       "170    22.5\n",
       "171    23.5\n",
       "175    18.0\n",
       "176    17.0\n",
       "178    18.0\n",
       "179    15.5\n",
       "181    24.0\n",
       "183    26.0\n",
       "184    22.0\n",
       "186    23.5\n",
       "187    24.0\n",
       "190    26.5\n",
       "191    22.0\n",
       "193    22.5\n",
       "194    27.0\n",
       "195    28.5\n",
       "198    30.5\n",
       "199    13.0\n",
       "200    15.5\n",
       "202    18.0\n",
       "205    17.0\n",
       "207    18.0\n",
       "209    22.5\n",
       "211    25.5\n",
       "215    22.5\n",
       "216    25.5\n",
       "218    25.0\n",
       "220    19.5\n",
       "223    35.0\n",
       "225    22.5\n",
       "227    24.5\n",
       "229    23.5\n",
       "230    23.5\n",
       "232    21.0\n",
       "234    21.5\n",
       "Name: avg_mpg, dtype: float64"
      ]
     },
     "execution_count": 46,
     "metadata": {},
     "output_type": "execute_result"
    }
   ],
   "source": [
    "auto_mpg = df[df.trans.str.contains('auto')].avg_mpg\n",
    "auto_mpg"
   ]
  },
  {
   "cell_type": "code",
   "execution_count": 44,
   "id": "90414f28",
   "metadata": {},
   "outputs": [],
   "source": [
    "ttrans, ptrans = stats.ttest_ind(man_mpg, auto_mpg)"
   ]
  },
  {
   "cell_type": "code",
   "execution_count": 45,
   "id": "98afb726",
   "metadata": {},
   "outputs": [
    {
     "name": "stdout",
     "output_type": "stream",
     "text": [
      "We fail to reject the null hypothesis.\n"
     ]
    }
   ],
   "source": [
    "if ptrans < alpha and t > 0:\n",
    "    print('We reject the null hypothesis.')\n",
    "else:\n",
    "    print('We fail to reject the null hypothesis.')"
   ]
  },
  {
   "cell_type": "code",
   "execution_count": null,
   "id": "9e7f8bb7",
   "metadata": {},
   "outputs": [],
   "source": []
  }
 ],
 "metadata": {
  "kernelspec": {
   "display_name": "Python 3 (ipykernel)",
   "language": "python",
   "name": "python3"
  },
  "language_info": {
   "codemirror_mode": {
    "name": "ipython",
    "version": 3
   },
   "file_extension": ".py",
   "mimetype": "text/x-python",
   "name": "python",
   "nbconvert_exporter": "python",
   "pygments_lexer": "ipython3",
   "version": "3.9.12"
  }
 },
 "nbformat": 4,
 "nbformat_minor": 5
}
