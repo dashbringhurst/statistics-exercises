{
 "cells": [
  {
   "cell_type": "markdown",
   "id": "042f1e15",
   "metadata": {},
   "source": [
    "For each of the following questions, formulate a null and alternative hypothesis (be as specific as you can be), then give an example of what a true positive, true negative, type I and type II errors would look like. Note that some of the questions are intentionally phrased in a vague way. It is your job to reword these as more precise questions that could be tested.\n",
    "\n",
    "Has the network latency gone up since we switched internet service providers?\n",
    "\n",
    "Is the website redesign any good?\n",
    "\n",
    "Is our television ad driving more sales?"
   ]
  },
  {
   "cell_type": "markdown",
   "id": "c796cc83",
   "metadata": {},
   "source": [
    "Has the network latency increased since we switched internet service providers?\n",
    "\n",
    "Null hypothesis: The new internet service provider has not increased network latency.\n",
    "\n",
    "Alternative hypothesis: The new internet service provider has resulted in an increase in network latency. (one-tail test)\n",
    "\n",
    "True positive: The test rejects the null hypothesis and the network latency has increased since switching internet service providers.\n",
    "\n",
    "True negative: The test fails to reject the null hypothesis and the network latency has not increased since switching internet providers.\n",
    "\n",
    "False positive: The test rejects the null hypothesis but the switch to another internet service provider did not actually increase network latency.\n",
    "\n",
    "False negative: The test fails to reject the null hypothesis but the switch to another internet service provider did increase network latency."
   ]
  },
  {
   "cell_type": "markdown",
   "id": "d4c942fa",
   "metadata": {},
   "source": [
    "Does the new website design increase the average monthly rate of customers who join?\n",
    "\n",
    "Null hypothesis: The new website design has no effect on the average monthly rate of new customers.\n",
    "\n",
    "Alternative hypothesis: The new website design has affected the average monthly rate of new customers.\n",
    "\n",
    "True positive: The null hypothesis is rejected and the website has actually influenced the rate of new customers per month.\n",
    "\n",
    "True negative: The test fails to reject the null hypothesis and the website indeed has no effect on the average amount of new customers per month. \n",
    "\n",
    "False positive: The test rejects the null hypothesis, but the website does not affect the average amount of new customers per month.\n",
    "\n",
    "False negative: The test fails to reject the null hypothesis, but the website does indeed affect the average amount of new customers per month."
   ]
  },
  {
   "cell_type": "markdown",
   "id": "c354e1d0",
   "metadata": {},
   "source": [
    "Does our television ad affect sales?\n",
    "\n",
    "Null hypothesis: Our television ad has no effect on sales.\n",
    "\n",
    "Alternative Hypothesis: Our television ad positively affects sales.\n",
    "\n",
    "True positive: The test rejects the null hypothesis and the ad has positively affected sales.\n",
    "\n",
    "True negative: The test fails to reject the null hypothesis and the ad has had no effect on sales.\n",
    "\n",
    "False positive: The test rejects the null hypothesis but the ad does not affect sales.\n",
    "\n",
    "False negative: The test fails to reject the null hypothesis but the ad does indeed affect sales."
   ]
  },
  {
   "cell_type": "code",
   "execution_count": null,
   "id": "14222a59",
   "metadata": {},
   "outputs": [],
   "source": []
  }
 ],
 "metadata": {
  "kernelspec": {
   "display_name": "Python 3 (ipykernel)",
   "language": "python",
   "name": "python3"
  },
  "language_info": {
   "codemirror_mode": {
    "name": "ipython",
    "version": 3
   },
   "file_extension": ".py",
   "mimetype": "text/x-python",
   "name": "python",
   "nbconvert_exporter": "python",
   "pygments_lexer": "ipython3",
   "version": "3.9.12"
  }
 },
 "nbformat": 4,
 "nbformat_minor": 5
}
